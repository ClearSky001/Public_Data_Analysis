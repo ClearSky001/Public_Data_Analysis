{
 "cells": [
  {
   "cell_type": "markdown",
   "metadata": {
    "colab_type": "text",
    "id": "KjUsJlrmJZUh"
   },
   "source": [
    "* ##############################################\n",
    "* ######### 전국 민간 아파트 분양가격 분석하기 ######### \n",
    "* ##############################################"
   ]
  },
  {
   "cell_type": "markdown",
   "metadata": {},
   "source": [
    "# import"
   ]
  },
  {
   "cell_type": "code",
   "execution_count": 2,
   "metadata": {
    "colab": {},
    "colab_type": "code",
    "id": "zpY51yLhJZUj"
   },
   "outputs": [
    {
     "name": "stdout",
     "output_type": "stream",
     "text": [
      "python 3.11.9 | packaged by Anaconda, Inc. | (main, Apr 19 2024, 16:40:41) [MSC v.1916 64 bit (AMD64)]\n",
      "numpy 1.26.4\n",
      "pandas 2.2.3\n",
      "matplotlib 3.10.0\n",
      "pandas 0.13.2\n"
     ]
    }
   ],
   "source": [
    "# 사용할 패키지를 import합니다\n",
    "import sys\n",
    "print('python', sys.version)\n",
    "\n",
    "import numpy as np\n",
    "print('numpy', np.__version__)\n",
    "\n",
    "import pandas as pd\n",
    "print('pandas', pd.__version__)\n",
    "\n",
    "import matplotlib as mpl\n",
    "print('matplotlib', mpl.__version__)\n",
    "\n",
    "import matplotlib.pyplot as plt\n",
    "\n",
    "import seaborn as sns\n",
    "print('pandas', sns.__version__)\n",
    "\n",
    "# 결과 확인을 용이하게 하기 위한 코드\n",
    "from IPython.core.interactiveshell import InteractiveShell\n",
    "InteractiveShell.ast_node_interactivity = 'all'\n",
    "\n",
    "# figure에 한글 폰트 사용을 위한 코드\n",
    "plt.rc(\"font\", family=\"Malgun Gothic\") # window\n",
    "#plt.rc(\"font\", family=\"AppleGothic\") # mac\n",
    "from matplotlib.ticker import MaxNLocator"
   ]
  },
  {
   "cell_type": "markdown",
   "metadata": {},
   "source": [
    "# 전처리코드 정리 (최종)"
   ]
  },
  {
   "cell_type": "code",
   "execution_count": 3,
   "metadata": {},
   "outputs": [
    {
     "data": {
      "text/html": [
       "<div>\n",
       "<style scoped>\n",
       "    .dataframe tbody tr th:only-of-type {\n",
       "        vertical-align: middle;\n",
       "    }\n",
       "\n",
       "    .dataframe tbody tr th {\n",
       "        vertical-align: top;\n",
       "    }\n",
       "\n",
       "    .dataframe thead th {\n",
       "        text-align: right;\n",
       "    }\n",
       "</style>\n",
       "<table border=\"1\" class=\"dataframe\">\n",
       "  <thead>\n",
       "    <tr style=\"text-align: right;\">\n",
       "      <th></th>\n",
       "      <th>지역명</th>\n",
       "      <th>규모구분</th>\n",
       "      <th>연도</th>\n",
       "      <th>월</th>\n",
       "      <th>분양가격(제곱미터)</th>\n",
       "    </tr>\n",
       "  </thead>\n",
       "  <tbody>\n",
       "    <tr>\n",
       "      <th>0</th>\n",
       "      <td>서울</td>\n",
       "      <td>모든면적</td>\n",
       "      <td>2015</td>\n",
       "      <td>10</td>\n",
       "      <td>5841</td>\n",
       "    </tr>\n",
       "    <tr>\n",
       "      <th>1</th>\n",
       "      <td>서울</td>\n",
       "      <td>전용면적 60제곱미터이하</td>\n",
       "      <td>2015</td>\n",
       "      <td>10</td>\n",
       "      <td>5652</td>\n",
       "    </tr>\n",
       "    <tr>\n",
       "      <th>2</th>\n",
       "      <td>서울</td>\n",
       "      <td>전용면적 60제곱미터초과 85제곱미터이하</td>\n",
       "      <td>2015</td>\n",
       "      <td>10</td>\n",
       "      <td>5882</td>\n",
       "    </tr>\n",
       "    <tr>\n",
       "      <th>3</th>\n",
       "      <td>서울</td>\n",
       "      <td>전용면적 85제곱미터초과 102제곱미터이하</td>\n",
       "      <td>2015</td>\n",
       "      <td>10</td>\n",
       "      <td>5721</td>\n",
       "    </tr>\n",
       "    <tr>\n",
       "      <th>4</th>\n",
       "      <td>서울</td>\n",
       "      <td>전용면적 102제곱미터초과</td>\n",
       "      <td>2015</td>\n",
       "      <td>10</td>\n",
       "      <td>5879</td>\n",
       "    </tr>\n",
       "  </tbody>\n",
       "</table>\n",
       "</div>"
      ],
      "text/plain": [
       "  지역명                     규모구분    연도   월 분양가격(제곱미터)\n",
       "0  서울                     모든면적  2015  10       5841\n",
       "1  서울            전용면적 60제곱미터이하  2015  10       5652\n",
       "2  서울   전용면적 60제곱미터초과 85제곱미터이하  2015  10       5882\n",
       "3  서울  전용면적 85제곱미터초과 102제곱미터이하  2015  10       5721\n",
       "4  서울           전용면적 102제곱미터초과  2015  10       5879"
      ]
     },
     "execution_count": 3,
     "metadata": {},
     "output_type": "execute_result"
    },
    {
     "name": "stdout",
     "output_type": "stream",
     "text": [
      "<class 'pandas.core.frame.DataFrame'>\n",
      "RangeIndex: 7905 entries, 0 to 7904\n",
      "Data columns (total 5 columns):\n",
      " #   Column      Non-Null Count  Dtype \n",
      "---  ------      --------------  ----- \n",
      " 0   지역명         7905 non-null   object\n",
      " 1   규모구분        7905 non-null   object\n",
      " 2   연도          7905 non-null   int64 \n",
      " 3   월           7905 non-null   int64 \n",
      " 4   분양가격(제곱미터)  7358 non-null   object\n",
      "dtypes: int64(2), object(3)\n",
      "memory usage: 308.9+ KB\n"
     ]
    },
    {
     "data": {
      "text/html": [
       "<div>\n",
       "<style scoped>\n",
       "    .dataframe tbody tr th:only-of-type {\n",
       "        vertical-align: middle;\n",
       "    }\n",
       "\n",
       "    .dataframe tbody tr th {\n",
       "        vertical-align: top;\n",
       "    }\n",
       "\n",
       "    .dataframe thead th {\n",
       "        text-align: right;\n",
       "    }\n",
       "</style>\n",
       "<table border=\"1\" class=\"dataframe\">\n",
       "  <thead>\n",
       "    <tr style=\"text-align: right;\">\n",
       "      <th></th>\n",
       "      <th>지역명</th>\n",
       "      <th>연도</th>\n",
       "      <th>월</th>\n",
       "      <th>분양가격</th>\n",
       "      <th>전용면적</th>\n",
       "    </tr>\n",
       "  </thead>\n",
       "  <tbody>\n",
       "    <tr>\n",
       "      <th>0</th>\n",
       "      <td>서울</td>\n",
       "      <td>2015</td>\n",
       "      <td>10</td>\n",
       "      <td>19275.3</td>\n",
       "      <td>전체</td>\n",
       "    </tr>\n",
       "    <tr>\n",
       "      <th>1</th>\n",
       "      <td>서울</td>\n",
       "      <td>2015</td>\n",
       "      <td>10</td>\n",
       "      <td>18651.6</td>\n",
       "      <td>~60</td>\n",
       "    </tr>\n",
       "    <tr>\n",
       "      <th>2</th>\n",
       "      <td>서울</td>\n",
       "      <td>2015</td>\n",
       "      <td>10</td>\n",
       "      <td>19410.6</td>\n",
       "      <td>60~85</td>\n",
       "    </tr>\n",
       "    <tr>\n",
       "      <th>3</th>\n",
       "      <td>서울</td>\n",
       "      <td>2015</td>\n",
       "      <td>10</td>\n",
       "      <td>18879.3</td>\n",
       "      <td>85~102</td>\n",
       "    </tr>\n",
       "    <tr>\n",
       "      <th>4</th>\n",
       "      <td>서울</td>\n",
       "      <td>2015</td>\n",
       "      <td>10</td>\n",
       "      <td>19400.7</td>\n",
       "      <td>102~</td>\n",
       "    </tr>\n",
       "  </tbody>\n",
       "</table>\n",
       "</div>"
      ],
      "text/plain": [
       "  지역명    연도   월     분양가격    전용면적\n",
       "0  서울  2015  10  19275.3      전체\n",
       "1  서울  2015  10  18651.6     ~60\n",
       "2  서울  2015  10  19410.6   60~85\n",
       "3  서울  2015  10  18879.3  85~102\n",
       "4  서울  2015  10  19400.7    102~"
      ]
     },
     "execution_count": 3,
     "metadata": {},
     "output_type": "execute_result"
    },
    {
     "name": "stdout",
     "output_type": "stream",
     "text": [
      "<class 'pandas.core.frame.DataFrame'>\n",
      "RangeIndex: 7322 entries, 0 to 7321\n",
      "Data columns (total 5 columns):\n",
      " #   Column  Non-Null Count  Dtype  \n",
      "---  ------  --------------  -----  \n",
      " 0   지역명     7322 non-null   object \n",
      " 1   연도      7322 non-null   int64  \n",
      " 2   월       7322 non-null   int64  \n",
      " 3   분양가격    7322 non-null   float64\n",
      " 4   전용면적    7322 non-null   object \n",
      "dtypes: float64(1), int64(2), object(2)\n",
      "memory usage: 286.1+ KB\n"
     ]
    }
   ],
   "source": [
    "####### df_2023 전처리하기\n",
    "df_2023 = pd.read_csv(\"data/전국평균 분양가격 (2015년10월~2023년6월).csv\", encoding=\"cp949\") #default: sep=','\n",
    "df_2023.head()\n",
    "df_2023.info()\n",
    "\n",
    "### ==> 1) '분양가격(제곱미터)'column: nan(결측치) 제거\n",
    "df_2023_nn=df_2023.loc[df_2023['분양가격(제곱미터)'].notnull()]\n",
    "\n",
    "# ### ==> 2) '분양가격(제곱미터)'column: 숫자로 구성된 문자 -> float형 | 숫자가 아닌 문자 -> nan으로 변경 후 행 제거\n",
    "df_2023_ft=df_2023_nn.copy()\n",
    "df_2023_ft['분양가격(제곱미터)']=pd.to_numeric(df_2023_ft['분양가격(제곱미터)'], errors='coerce')\n",
    "df_2023_ft=df_2023_ft.loc[df_2023_ft['분양가격(제곱미터)'].notnull()]\n",
    "\n",
    "### ==> 3) '분양가격(제곱미터)'을  '평당분양가격'으로 변환하기 (단 column이름은 '분양가격') (참고: 3w자료에서는 평당분양가격임)\n",
    "df_2023_ft[\"분양가격\"]=df_2023_ft['분양가격(제곱미터)'] * 3.3\n",
    "df_prep=df_2023_ft.drop(columns=['분양가격(제곱미터)'])\n",
    "\n",
    "### ==> 4) '규모구분'을 '전용면적'으로 변환하기\n",
    "def parse_area_only(x):\n",
    "    x2=x.replace(\"모든면적\", \"전체\").replace(\"전용면적\", \"\").replace(\"제곱미터\", \"\").replace(\"60이하\", \"~60\")\n",
    "    x3=x2.replace(\"초과\", \"~\").replace(\"이하\", \"\").replace(\" \", \"\")\n",
    "    return x3\n",
    "    \n",
    "df_prep[\"전용면적\"] = df_prep[\"규모구분\"].map(parse_area_only)\n",
    "df_prep=df_prep.drop(columns=['규모구분'], errors='ignore') # '규모구분' column이 없는 경우 error raise 방지\n",
    "\n",
    "## ==> 5) reset_index 후 전처리한 데이터 확인하기\n",
    "df_prep=df_prep.reset_index(drop=True)\n",
    "\n",
    "df_prep.head()\n",
    "df_prep.info()"
   ]
  },
  {
   "cell_type": "markdown",
   "metadata": {},
   "source": [
    "# groupby vs pivot_table\n",
    "* groupby return형: series\n",
    "* pivot_table return형: dataframe"
   ]
  },
  {
   "cell_type": "markdown",
   "metadata": {},
   "source": [
    "## 전용면적별 분양가격의 평균을 groupby와 pivot_table 함수를 활용해 각각 구하시오"
   ]
  },
  {
   "cell_type": "code",
   "execution_count": 6,
   "metadata": {},
   "outputs": [
    {
     "data": {
      "text/plain": [
       "'################# groupby: series'"
      ]
     },
     "execution_count": 6,
     "metadata": {},
     "output_type": "execute_result"
    },
    {
     "data": {
      "text/plain": [
       "전용면적\n",
       "102~      13152.676793\n",
       "60~85     11895.030518\n",
       "85~102    12750.729685\n",
       "~60       11859.274417\n",
       "전체        11923.028544\n",
       "Name: 분양가격, dtype: float64"
      ]
     },
     "execution_count": 6,
     "metadata": {},
     "output_type": "execute_result"
    },
    {
     "data": {
      "text/plain": [
       "'################# groupby: dataframe'"
      ]
     },
     "execution_count": 6,
     "metadata": {},
     "output_type": "execute_result"
    },
    {
     "data": {
      "text/html": [
       "<div>\n",
       "<style scoped>\n",
       "    .dataframe tbody tr th:only-of-type {\n",
       "        vertical-align: middle;\n",
       "    }\n",
       "\n",
       "    .dataframe tbody tr th {\n",
       "        vertical-align: top;\n",
       "    }\n",
       "\n",
       "    .dataframe thead th {\n",
       "        text-align: right;\n",
       "    }\n",
       "</style>\n",
       "<table border=\"1\" class=\"dataframe\">\n",
       "  <thead>\n",
       "    <tr style=\"text-align: right;\">\n",
       "      <th></th>\n",
       "      <th>분양가격</th>\n",
       "    </tr>\n",
       "    <tr>\n",
       "      <th>전용면적</th>\n",
       "      <th></th>\n",
       "    </tr>\n",
       "  </thead>\n",
       "  <tbody>\n",
       "    <tr>\n",
       "      <th>102~</th>\n",
       "      <td>13152.676793</td>\n",
       "    </tr>\n",
       "    <tr>\n",
       "      <th>60~85</th>\n",
       "      <td>11895.030518</td>\n",
       "    </tr>\n",
       "    <tr>\n",
       "      <th>85~102</th>\n",
       "      <td>12750.729685</td>\n",
       "    </tr>\n",
       "    <tr>\n",
       "      <th>~60</th>\n",
       "      <td>11859.274417</td>\n",
       "    </tr>\n",
       "    <tr>\n",
       "      <th>전체</th>\n",
       "      <td>11923.028544</td>\n",
       "    </tr>\n",
       "  </tbody>\n",
       "</table>\n",
       "</div>"
      ],
      "text/plain": [
       "                분양가격\n",
       "전용면적                \n",
       "102~    13152.676793\n",
       "60~85   11895.030518\n",
       "85~102  12750.729685\n",
       "~60     11859.274417\n",
       "전체      11923.028544"
      ]
     },
     "execution_count": 6,
     "metadata": {},
     "output_type": "execute_result"
    },
    {
     "data": {
      "text/plain": [
       "'################# pivot_table: dataframe'"
      ]
     },
     "execution_count": 6,
     "metadata": {},
     "output_type": "execute_result"
    },
    {
     "data": {
      "text/html": [
       "<div>\n",
       "<style scoped>\n",
       "    .dataframe tbody tr th:only-of-type {\n",
       "        vertical-align: middle;\n",
       "    }\n",
       "\n",
       "    .dataframe tbody tr th {\n",
       "        vertical-align: top;\n",
       "    }\n",
       "\n",
       "    .dataframe thead th {\n",
       "        text-align: right;\n",
       "    }\n",
       "</style>\n",
       "<table border=\"1\" class=\"dataframe\">\n",
       "  <thead>\n",
       "    <tr style=\"text-align: right;\">\n",
       "      <th></th>\n",
       "      <th>분양가격</th>\n",
       "    </tr>\n",
       "    <tr>\n",
       "      <th>전용면적</th>\n",
       "      <th></th>\n",
       "    </tr>\n",
       "  </thead>\n",
       "  <tbody>\n",
       "    <tr>\n",
       "      <th>102~</th>\n",
       "      <td>13152.676793</td>\n",
       "    </tr>\n",
       "    <tr>\n",
       "      <th>60~85</th>\n",
       "      <td>11895.030518</td>\n",
       "    </tr>\n",
       "    <tr>\n",
       "      <th>85~102</th>\n",
       "      <td>12750.729685</td>\n",
       "    </tr>\n",
       "    <tr>\n",
       "      <th>~60</th>\n",
       "      <td>11859.274417</td>\n",
       "    </tr>\n",
       "    <tr>\n",
       "      <th>전체</th>\n",
       "      <td>11923.028544</td>\n",
       "    </tr>\n",
       "  </tbody>\n",
       "</table>\n",
       "</div>"
      ],
      "text/plain": [
       "                분양가격\n",
       "전용면적                \n",
       "102~    13152.676793\n",
       "60~85   11895.030518\n",
       "85~102  12750.729685\n",
       "~60     11859.274417\n",
       "전체      11923.028544"
      ]
     },
     "execution_count": 6,
     "metadata": {},
     "output_type": "execute_result"
    },
    {
     "data": {
      "text/plain": [
       "'################# pivot_table: series'"
      ]
     },
     "execution_count": 6,
     "metadata": {},
     "output_type": "execute_result"
    },
    {
     "data": {
      "text/plain": [
       "전용면적\n",
       "102~      13152.676793\n",
       "60~85     11895.030518\n",
       "85~102    12750.729685\n",
       "~60       11859.274417\n",
       "전체        11923.028544\n",
       "Name: 분양가격, dtype: float64"
      ]
     },
     "execution_count": 6,
     "metadata": {},
     "output_type": "execute_result"
    }
   ],
   "source": [
    "## groupby\n",
    "'################# groupby: series'\n",
    "df_prep.groupby(['전용면적'])['분양가격'].mean()\n",
    "'################# groupby: dataframe'\n",
    "df_prep.groupby(['전용면적'])['분양가격'].mean().to_frame()\n",
    "\n",
    "## pivot_table\n",
    "'################# pivot_table: dataframe'\n",
    "df_prep.pivot_table(index='전용면적', values='분양가격', aggfunc='mean')\n",
    "'################# pivot_table: series'\n",
    "df_prep.pivot_table(index='전용면적', values='분양가격', aggfunc='mean')['분양가격']\n"
   ]
  },
  {
   "cell_type": "markdown",
   "metadata": {},
   "source": [
    "## 전용면적별 8000이상의 분양가격의 평균을 groupby와 pivot_table 함수를 활용해 각각 구하시오"
   ]
  },
  {
   "cell_type": "code",
   "execution_count": 7,
   "metadata": {},
   "outputs": [
    {
     "data": {
      "text/plain": [
       "전용면적\n",
       "102~      13641.163073\n",
       "60~85     12875.832737\n",
       "85~102    13202.763644\n",
       "~60       12786.739888\n",
       "전체        12901.118668\n",
       "Name: 분양가격, dtype: float64"
      ]
     },
     "execution_count": 7,
     "metadata": {},
     "output_type": "execute_result"
    },
    {
     "data": {
      "text/html": [
       "<div>\n",
       "<style scoped>\n",
       "    .dataframe tbody tr th:only-of-type {\n",
       "        vertical-align: middle;\n",
       "    }\n",
       "\n",
       "    .dataframe tbody tr th {\n",
       "        vertical-align: top;\n",
       "    }\n",
       "\n",
       "    .dataframe thead th {\n",
       "        text-align: right;\n",
       "    }\n",
       "</style>\n",
       "<table border=\"1\" class=\"dataframe\">\n",
       "  <thead>\n",
       "    <tr style=\"text-align: right;\">\n",
       "      <th></th>\n",
       "      <th>분양가격</th>\n",
       "    </tr>\n",
       "    <tr>\n",
       "      <th>전용면적</th>\n",
       "      <th></th>\n",
       "    </tr>\n",
       "  </thead>\n",
       "  <tbody>\n",
       "    <tr>\n",
       "      <th>102~</th>\n",
       "      <td>13641.163073</td>\n",
       "    </tr>\n",
       "    <tr>\n",
       "      <th>60~85</th>\n",
       "      <td>12875.832737</td>\n",
       "    </tr>\n",
       "    <tr>\n",
       "      <th>85~102</th>\n",
       "      <td>13202.763644</td>\n",
       "    </tr>\n",
       "    <tr>\n",
       "      <th>~60</th>\n",
       "      <td>12786.739888</td>\n",
       "    </tr>\n",
       "    <tr>\n",
       "      <th>전체</th>\n",
       "      <td>12901.118668</td>\n",
       "    </tr>\n",
       "  </tbody>\n",
       "</table>\n",
       "</div>"
      ],
      "text/plain": [
       "                분양가격\n",
       "전용면적                \n",
       "102~    13641.163073\n",
       "60~85   12875.832737\n",
       "85~102  13202.763644\n",
       "~60     12786.739888\n",
       "전체      12901.118668"
      ]
     },
     "execution_count": 7,
     "metadata": {},
     "output_type": "execute_result"
    }
   ],
   "source": [
    "def more_8000(sr1):\n",
    "    sr2=sr1.loc[sr1>=8000]\n",
    "    return np.mean(sr2)\n",
    "\n",
    "## groupby\n",
    "df_prep.groupby(['전용면적'])['분양가격'].apply(more_8000)\n",
    "\n",
    "## pivot_table\n",
    "df_prep.pivot_table(index='전용면적', values='분양가격', aggfunc=more_8000)"
   ]
  },
  {
   "cell_type": "markdown",
   "metadata": {},
   "source": [
    "## <실습1>\n",
    "* 전용면적별로 분양가격의 평균을 구하고, 전용면적별로 그 평균보다 높은 값들의 비율을 구하시오\n",
    "* (pivot_table, groupby 각각 사용)"
   ]
  },
  {
   "cell_type": "code",
   "execution_count": 39,
   "metadata": {},
   "outputs": [
    {
     "data": {
      "text/html": [
       "<div>\n",
       "<style scoped>\n",
       "    .dataframe tbody tr th:only-of-type {\n",
       "        vertical-align: middle;\n",
       "    }\n",
       "\n",
       "    .dataframe tbody tr th {\n",
       "        vertical-align: top;\n",
       "    }\n",
       "\n",
       "    .dataframe thead th {\n",
       "        text-align: right;\n",
       "    }\n",
       "</style>\n",
       "<table border=\"1\" class=\"dataframe\">\n",
       "  <thead>\n",
       "    <tr style=\"text-align: right;\">\n",
       "      <th></th>\n",
       "      <th>분양가격</th>\n",
       "    </tr>\n",
       "    <tr>\n",
       "      <th>전용면적</th>\n",
       "      <th></th>\n",
       "    </tr>\n",
       "  </thead>\n",
       "  <tbody>\n",
       "    <tr>\n",
       "      <th>102~</th>\n",
       "      <td>0.400844</td>\n",
       "    </tr>\n",
       "    <tr>\n",
       "      <th>60~85</th>\n",
       "      <td>0.365963</td>\n",
       "    </tr>\n",
       "    <tr>\n",
       "      <th>85~102</th>\n",
       "      <td>0.353543</td>\n",
       "    </tr>\n",
       "    <tr>\n",
       "      <th>~60</th>\n",
       "      <td>0.374417</td>\n",
       "    </tr>\n",
       "    <tr>\n",
       "      <th>전체</th>\n",
       "      <td>0.371009</td>\n",
       "    </tr>\n",
       "  </tbody>\n",
       "</table>\n",
       "</div>"
      ],
      "text/plain": [
       "            분양가격\n",
       "전용면적            \n",
       "102~    0.400844\n",
       "60~85   0.365963\n",
       "85~102  0.353543\n",
       "~60     0.374417\n",
       "전체      0.371009"
      ]
     },
     "execution_count": 39,
     "metadata": {},
     "output_type": "execute_result"
    },
    {
     "data": {
      "text/plain": [
       "전용면적\n",
       "102~      0.400844\n",
       "60~85     0.365963\n",
       "85~102    0.353543\n",
       "~60       0.374417\n",
       "전체        0.371009\n",
       "Name: 분양가격, dtype: float64"
      ]
     },
     "execution_count": 39,
     "metadata": {},
     "output_type": "execute_result"
    }
   ],
   "source": [
    "## 코드작성\n"
   ]
  },
  {
   "cell_type": "code",
   "execution_count": null,
   "metadata": {},
   "outputs": [],
   "source": []
  },
  {
   "cell_type": "code",
   "execution_count": null,
   "metadata": {},
   "outputs": [],
   "source": []
  },
  {
   "cell_type": "markdown",
   "metadata": {},
   "source": [
    "# groupby 결과 bar graph로 시각화 하기"
   ]
  },
  {
   "cell_type": "markdown",
   "metadata": {},
   "source": [
    "## 연도별 분양가격의 평균 bar graph"
   ]
  },
  {
   "cell_type": "code",
   "execution_count": 46,
   "metadata": {},
   "outputs": [
    {
     "data": {
      "text/plain": [
       "연도\n",
       "2015     9202.735802\n",
       "2016     9683.025000\n",
       "2017    10372.928923\n",
       "2018    10978.938411\n",
       "2019    12188.293092\n",
       "2020    13039.422449\n",
       "2021    13636.022540\n",
       "2022    14942.504494\n",
       "2023    16277.103106\n",
       "Name: 분양가격, dtype: float64"
      ]
     },
     "execution_count": 46,
     "metadata": {},
     "output_type": "execute_result"
    },
    {
     "data": {
      "text/plain": [
       "<Axes: xlabel='연도'>"
      ]
     },
     "execution_count": 46,
     "metadata": {},
     "output_type": "execute_result"
    },
    {
     "data": {
      "image/png": "[encoded data removed]",
      "text/plain": [
       "<Figure size 500x200 with 1 Axes>"
      ]
     },
     "metadata": {},
     "output_type": "display_data"
    }
   ],
   "source": [
    "fig=plt.figure(figsize=(5,2))\n",
    "ax1 = fig.subplots()\n",
    "\n",
    "sr1=df_prep.groupby(['연도'])[\"분양가격\"].mean()\n",
    "sr1\n",
    "sr1.plot.bar(ax=ax1)"
   ]
  },
  {
   "cell_type": "markdown",
   "metadata": {},
   "source": [
    "## <실습2>\n",
    "* 지역별로 평균(a1)대비 최대분양가격(m1)과 최소 분양가격의 차이(n1)를 구하고 bargraph로 그리시오\n",
    "* (m1-n1)/a1"
   ]
  },
  {
   "cell_type": "code",
   "execution_count": 45,
   "metadata": {},
   "outputs": [
    {
     "data": {
      "text/plain": [
       "<Axes: xlabel='지역명'>"
      ]
     },
     "execution_count": 45,
     "metadata": {},
     "output_type": "execute_result"
    },
    {
     "data": {
      "image/png": "[encoded data removed]",
      "text/plain": [
       "<Figure size 500x200 with 1 Axes>"
      ]
     },
     "metadata": {},
     "output_type": "display_data"
    }
   ],
   "source": [
    "fig=plt.figure(figsize=(5,2))\n",
    "ax1 = fig.subplots()\n",
    "\n",
    "## 코드작성\n"
   ]
  },
  {
   "cell_type": "markdown",
   "metadata": {},
   "source": [
    "## 다중 bargraph 그리기\n",
    "* 1 )연도별 분양가격의 최소값을 구하시오 (mn)\n",
    "* 2 )연도별 분양가격의 최대값을 구하시오 (mx)\n",
    "* 3 ) mn, mx를 이용하여 ax1아래와 같이 그림을 그리시오\n",
    "* (import cell의 plt.rc(\"font\", family=\"Malgun Gothic\") 코드로 인해 figure에 한글 표시 가능)"
   ]
  },
  {
   "cell_type": "code",
   "execution_count": 48,
   "metadata": {},
   "outputs": [
    {
     "data": {
      "text/plain": [
       "연도\n",
       "2015    6164.4\n",
       "2016    6270.0\n",
       "2017    6520.8\n",
       "Name: 분양가격, dtype: float64"
      ]
     },
     "execution_count": 48,
     "metadata": {},
     "output_type": "execute_result"
    },
    {
     "data": {
      "text/plain": [
       "연도\n",
       "2015    23403.6\n",
       "2016    26716.8\n",
       "2017    26027.1\n",
       "Name: 분양가격, dtype: float64"
      ]
     },
     "execution_count": 48,
     "metadata": {},
     "output_type": "execute_result"
    },
    {
     "data": {
      "text/html": [
       "<div>\n",
       "<style scoped>\n",
       "    .dataframe tbody tr th:only-of-type {\n",
       "        vertical-align: middle;\n",
       "    }\n",
       "\n",
       "    .dataframe tbody tr th {\n",
       "        vertical-align: top;\n",
       "    }\n",
       "\n",
       "    .dataframe thead th {\n",
       "        text-align: right;\n",
       "    }\n",
       "</style>\n",
       "<table border=\"1\" class=\"dataframe\">\n",
       "  <thead>\n",
       "    <tr style=\"text-align: right;\">\n",
       "      <th></th>\n",
       "      <th>max</th>\n",
       "      <th>min</th>\n",
       "    </tr>\n",
       "    <tr>\n",
       "      <th>연도</th>\n",
       "      <th></th>\n",
       "      <th></th>\n",
       "    </tr>\n",
       "  </thead>\n",
       "  <tbody>\n",
       "    <tr>\n",
       "      <th>2015</th>\n",
       "      <td>23403.6</td>\n",
       "      <td>6164.4</td>\n",
       "    </tr>\n",
       "    <tr>\n",
       "      <th>2016</th>\n",
       "      <td>26716.8</td>\n",
       "      <td>6270.0</td>\n",
       "    </tr>\n",
       "    <tr>\n",
       "      <th>2017</th>\n",
       "      <td>26027.1</td>\n",
       "      <td>6520.8</td>\n",
       "    </tr>\n",
       "  </tbody>\n",
       "</table>\n",
       "</div>"
      ],
      "text/plain": [
       "          max     min\n",
       "연도                   \n",
       "2015  23403.6  6164.4\n",
       "2016  26716.8  6270.0\n",
       "2017  26027.1  6520.8"
      ]
     },
     "execution_count": 48,
     "metadata": {},
     "output_type": "execute_result"
    },
    {
     "data": {
      "text/plain": [
       "<Axes: xlabel='연도'>"
      ]
     },
     "execution_count": 48,
     "metadata": {},
     "output_type": "execute_result"
    },
    {
     "data": {
      "image/png": "[encoded data removed]",
      "text/plain": [
       "<Figure size 500x300 with 1 Axes>"
      ]
     },
     "metadata": {},
     "output_type": "display_data"
    }
   ],
   "source": [
    "fig=plt.figure(figsize=(5,3))\n",
    "ax1 = fig.subplots()\n",
    "# 1)\n",
    "## 코드작성 ##\n",
    "mn=df_prep.groupby(['연도'])[\"분양가격\"].min()\n",
    "mn.head(3)\n",
    "## 코드작성 끝 ##\n",
    "\n",
    "# 2)\n",
    "## 코드작성 ##\n",
    "mx=df_prep.groupby(['연도'])[\"분양가격\"].max()\n",
    "mx.head(3)\n",
    "## 코드작성 끝 ##\n",
    "\n",
    "\n",
    "# 3)\n",
    "## 코드작성 ##\n",
    "mg=pd.concat([mx,mn], axis=1)\n",
    "mg.columns=['max','min']\n",
    "mg.head(3)\n",
    "mg.plot.bar(ax=ax1)"
   ]
  },
  {
   "cell_type": "markdown",
   "metadata": {},
   "source": [
    "## <실습3>\n",
    "* 1) 지역별 분양가격의 최소값을 구하시오 (mn)\n",
    "* 2) 지역별 분양가격의 최대값을 구하시오 (mx)\n",
    "* 3) mn, mx를 이용하여 ax1에 아래와 같이 그림을 그리시오\n",
    "* (단, max 값이 큰 순서대로 도시를 나열하여 시각화 하시오)"
   ]
  },
  {
   "cell_type": "code",
   "execution_count": 50,
   "metadata": {},
   "outputs": [
    {
     "data": {
      "text/plain": [
       "지역명\n",
       "강원     6639.6\n",
       "경기    10160.7\n",
       "경남     7260.0\n",
       "Name: 분양가격, dtype: float64"
      ]
     },
     "execution_count": 50,
     "metadata": {},
     "output_type": "execute_result"
    },
    {
     "data": {
      "text/plain": [
       "지역명\n",
       "강원    14899.5\n",
       "경기    22585.2\n",
       "경남    16566.0\n",
       "Name: 분양가격, dtype: float64"
      ]
     },
     "execution_count": 50,
     "metadata": {},
     "output_type": "execute_result"
    },
    {
     "data": {
      "text/html": [
       "<div>\n",
       "<style scoped>\n",
       "    .dataframe tbody tr th:only-of-type {\n",
       "        vertical-align: middle;\n",
       "    }\n",
       "\n",
       "    .dataframe tbody tr th {\n",
       "        vertical-align: top;\n",
       "    }\n",
       "\n",
       "    .dataframe thead th {\n",
       "        text-align: right;\n",
       "    }\n",
       "</style>\n",
       "<table border=\"1\" class=\"dataframe\">\n",
       "  <thead>\n",
       "    <tr style=\"text-align: right;\">\n",
       "      <th></th>\n",
       "      <th>max</th>\n",
       "      <th>min</th>\n",
       "    </tr>\n",
       "    <tr>\n",
       "      <th>지역명</th>\n",
       "      <th></th>\n",
       "      <th></th>\n",
       "    </tr>\n",
       "  </thead>\n",
       "  <tbody>\n",
       "    <tr>\n",
       "      <th>서울</th>\n",
       "      <td>45655.5</td>\n",
       "      <td>16701.3</td>\n",
       "    </tr>\n",
       "    <tr>\n",
       "      <th>제주</th>\n",
       "      <td>27753.0</td>\n",
       "      <td>7342.5</td>\n",
       "    </tr>\n",
       "    <tr>\n",
       "      <th>울산</th>\n",
       "      <td>27188.7</td>\n",
       "      <td>7992.6</td>\n",
       "    </tr>\n",
       "  </tbody>\n",
       "</table>\n",
       "</div>"
      ],
      "text/plain": [
       "         max      min\n",
       "지역명                  \n",
       "서울   45655.5  16701.3\n",
       "제주   27753.0   7342.5\n",
       "울산   27188.7   7992.6"
      ]
     },
     "execution_count": 50,
     "metadata": {},
     "output_type": "execute_result"
    },
    {
     "data": {
      "text/plain": [
       "<Axes: xlabel='지역명'>"
      ]
     },
     "execution_count": 50,
     "metadata": {},
     "output_type": "execute_result"
    },
    {
     "data": {
      "image/png": "[encoded data removed]",
      "text/plain": [
       "<Figure size 800x200 with 1 Axes>"
      ]
     },
     "metadata": {},
     "output_type": "display_data"
    }
   ],
   "source": [
    "fig=plt.figure(figsize=(8,2))\n",
    "ax1 = fig.subplots()\n",
    "# 1)\n",
    "## 코드작성 ##\n",
    "mn=\n",
    "\n",
    "# 2)\n",
    "## 코드작성 ##\n",
    "\n",
    "\n",
    "# 3)\n",
    "## 코드작성 ##\n",
    "\n"
   ]
  },
  {
   "cell_type": "code",
   "execution_count": null,
   "metadata": {},
   "outputs": [],
   "source": []
  },
  {
   "cell_type": "markdown",
   "metadata": {},
   "source": [
    "# 두 개 group으로 groupby 결과 bar graph로 시각화 하기\n",
    "* groupby return형: series\n",
    "* pivot_table return형: dataframe"
   ]
  },
  {
   "cell_type": "markdown",
   "metadata": {},
   "source": [
    "## 지역별, 전용면적별 분양가격 중앙값을 아래와 같이 시각화 하시오 (조건: pivot_table 사용)"
   ]
  },
  {
   "cell_type": "code",
   "execution_count": 14,
   "metadata": {},
   "outputs": [
    {
     "data": {
      "text/html": [
       "<div>\n",
       "<style scoped>\n",
       "    .dataframe tbody tr th:only-of-type {\n",
       "        vertical-align: middle;\n",
       "    }\n",
       "\n",
       "    .dataframe tbody tr th {\n",
       "        vertical-align: top;\n",
       "    }\n",
       "\n",
       "    .dataframe thead th {\n",
       "        text-align: right;\n",
       "    }\n",
       "</style>\n",
       "<table border=\"1\" class=\"dataframe\">\n",
       "  <thead>\n",
       "    <tr style=\"text-align: right;\">\n",
       "      <th></th>\n",
       "      <th></th>\n",
       "      <th>분양가격</th>\n",
       "    </tr>\n",
       "    <tr>\n",
       "      <th>지역명</th>\n",
       "      <th>전용면적</th>\n",
       "      <th></th>\n",
       "    </tr>\n",
       "  </thead>\n",
       "  <tbody>\n",
       "    <tr>\n",
       "      <th rowspan=\"5\" valign=\"top\">강원</th>\n",
       "      <th>102~</th>\n",
       "      <td>9645.9</td>\n",
       "    </tr>\n",
       "    <tr>\n",
       "      <th>60~85</th>\n",
       "      <td>8167.5</td>\n",
       "    </tr>\n",
       "    <tr>\n",
       "      <th>85~102</th>\n",
       "      <td>9451.2</td>\n",
       "    </tr>\n",
       "    <tr>\n",
       "      <th>~60</th>\n",
       "      <td>8415.0</td>\n",
       "    </tr>\n",
       "    <tr>\n",
       "      <th>전체</th>\n",
       "      <td>8220.3</td>\n",
       "    </tr>\n",
       "    <tr>\n",
       "      <th rowspan=\"2\" valign=\"top\">경기</th>\n",
       "      <th>102~</th>\n",
       "      <td>15496.8</td>\n",
       "    </tr>\n",
       "    <tr>\n",
       "      <th>60~85</th>\n",
       "      <td>13912.8</td>\n",
       "    </tr>\n",
       "  </tbody>\n",
       "</table>\n",
       "</div>"
      ],
      "text/plain": [
       "               분양가격\n",
       "지역명 전용면적           \n",
       "강원  102~     9645.9\n",
       "    60~85    8167.5\n",
       "    85~102   9451.2\n",
       "    ~60      8415.0\n",
       "    전체       8220.3\n",
       "경기  102~    15496.8\n",
       "    60~85   13912.8"
      ]
     },
     "execution_count": 14,
     "metadata": {},
     "output_type": "execute_result"
    },
    {
     "data": {
      "image/png": "[encoded data removed]",
      "text/plain": [
       "<Figure size 2000x300 with 1 Axes>"
      ]
     },
     "metadata": {},
     "output_type": "display_data"
    }
   ],
   "source": [
    "fig=plt.figure(figsize=(20,3))\n",
    "ax1 = fig.subplots()\n",
    "\n",
    "## 코드작성\n",
    "## ax1\n",
    "sr1=df_prep.pivot_table(index=['지역명','전용면적'], values='분양가격',aggfunc='median')\n",
    "sr1.head(7)\n",
    "_=sr1.plot.bar(ax=ax1)"
   ]
  },
  {
   "cell_type": "markdown",
   "metadata": {},
   "source": [
    "## <실습4>\n",
    "* 연도별, 전용면적별 최대값을 아래와 같이 시각화 하시오 (조건: groupby 사용)"
   ]
  },
  {
   "cell_type": "code",
   "execution_count": 8,
   "metadata": {},
   "outputs": [
    {
     "data": {
      "text/plain": [
       "연도    전용면적  \n",
       "2015  102~      21618.3\n",
       "      60~85     19687.8\n",
       "      85~102    23403.6\n",
       "      ~60       20859.3\n",
       "      전체        19965.0\n",
       "2016  102~      23895.3\n",
       "      60~85     21572.1\n",
       "Name: 분양가격, dtype: float64"
      ]
     },
     "execution_count": 8,
     "metadata": {},
     "output_type": "execute_result"
    },
    {
     "data": {
      "image/png": "[encoded data removed]",
      "text/plain": [
       "<Figure size 1000x300 with 1 Axes>"
      ]
     },
     "metadata": {},
     "output_type": "display_data"
    }
   ],
   "source": [
    "fig=plt.figure(figsize=(10,3))\n",
    "ax1 = fig.subplots()\n",
    "\n",
    "## 코드작성\n"
   ]
  },
  {
   "cell_type": "markdown",
   "metadata": {},
   "source": [
    "# 두 개 group으로 groupby 결과에 unstack 적용하기"
   ]
  },
  {
   "cell_type": "code",
   "execution_count": 15,
   "metadata": {},
   "outputs": [
    {
     "name": "stdout",
     "output_type": "stream",
     "text": [
      "############# d1\n"
     ]
    },
    {
     "data": {
      "text/plain": [
       "one  a    1\n",
       "     b    2\n",
       "two  a    3\n",
       "     b    4\n",
       "dtype: int32"
      ]
     },
     "execution_count": 15,
     "metadata": {},
     "output_type": "execute_result"
    },
    {
     "name": "stdout",
     "output_type": "stream",
     "text": [
      "############# d1.unstack(0)\n"
     ]
    },
    {
     "data": {
      "text/html": [
       "<div>\n",
       "<style scoped>\n",
       "    .dataframe tbody tr th:only-of-type {\n",
       "        vertical-align: middle;\n",
       "    }\n",
       "\n",
       "    .dataframe tbody tr th {\n",
       "        vertical-align: top;\n",
       "    }\n",
       "\n",
       "    .dataframe thead th {\n",
       "        text-align: right;\n",
       "    }\n",
       "</style>\n",
       "<table border=\"1\" class=\"dataframe\">\n",
       "  <thead>\n",
       "    <tr style=\"text-align: right;\">\n",
       "      <th></th>\n",
       "      <th>one</th>\n",
       "      <th>two</th>\n",
       "    </tr>\n",
       "  </thead>\n",
       "  <tbody>\n",
       "    <tr>\n",
       "      <th>a</th>\n",
       "      <td>1</td>\n",
       "      <td>3</td>\n",
       "    </tr>\n",
       "    <tr>\n",
       "      <th>b</th>\n",
       "      <td>2</td>\n",
       "      <td>4</td>\n",
       "    </tr>\n",
       "  </tbody>\n",
       "</table>\n",
       "</div>"
      ],
      "text/plain": [
       "   one  two\n",
       "a    1    3\n",
       "b    2    4"
      ]
     },
     "execution_count": 15,
     "metadata": {},
     "output_type": "execute_result"
    },
    {
     "name": "stdout",
     "output_type": "stream",
     "text": [
      "############# d1.unstack(1)\n"
     ]
    },
    {
     "data": {
      "text/html": [
       "<div>\n",
       "<style scoped>\n",
       "    .dataframe tbody tr th:only-of-type {\n",
       "        vertical-align: middle;\n",
       "    }\n",
       "\n",
       "    .dataframe tbody tr th {\n",
       "        vertical-align: top;\n",
       "    }\n",
       "\n",
       "    .dataframe thead th {\n",
       "        text-align: right;\n",
       "    }\n",
       "</style>\n",
       "<table border=\"1\" class=\"dataframe\">\n",
       "  <thead>\n",
       "    <tr style=\"text-align: right;\">\n",
       "      <th></th>\n",
       "      <th>a</th>\n",
       "      <th>b</th>\n",
       "    </tr>\n",
       "  </thead>\n",
       "  <tbody>\n",
       "    <tr>\n",
       "      <th>one</th>\n",
       "      <td>1</td>\n",
       "      <td>2</td>\n",
       "    </tr>\n",
       "    <tr>\n",
       "      <th>two</th>\n",
       "      <td>3</td>\n",
       "      <td>4</td>\n",
       "    </tr>\n",
       "  </tbody>\n",
       "</table>\n",
       "</div>"
      ],
      "text/plain": [
       "     a  b\n",
       "one  1  2\n",
       "two  3  4"
      ]
     },
     "execution_count": 15,
     "metadata": {},
     "output_type": "execute_result"
    }
   ],
   "source": [
    "index = pd.MultiIndex.from_tuples([('one', 'a'), ('one', 'b'),\n",
    "                                   ('two', 'a'), ('two', 'b')])\n",
    "d1 = pd.Series(np.arange(1, 5), index=index)\n",
    "\n",
    "print('############# d1')\n",
    "d1\n",
    "\n",
    "print('############# d1.unstack(0)')\n",
    "d1.unstack(0)\n",
    "\n",
    "print('############# d1.unstack(1)')\n",
    "d1.unstack(1)"
   ]
  },
  {
   "cell_type": "markdown",
   "metadata": {},
   "source": [
    "## unstack 시 nan의 등장"
   ]
  },
  {
   "cell_type": "code",
   "execution_count": 3,
   "metadata": {},
   "outputs": [
    {
     "name": "stdout",
     "output_type": "stream",
     "text": [
      "############# s1\n"
     ]
    },
    {
     "data": {
      "text/plain": [
       "one  a    0\n",
       "     b    1\n",
       "     c    2\n",
       "two  a    3\n",
       "     b    4\n",
       "dtype: int32"
      ]
     },
     "execution_count": 3,
     "metadata": {},
     "output_type": "execute_result"
    },
    {
     "name": "stdout",
     "output_type": "stream",
     "text": [
      "############# s1.unstack()\n"
     ]
    },
    {
     "data": {
      "text/html": [
       "<div>\n",
       "<style scoped>\n",
       "    .dataframe tbody tr th:only-of-type {\n",
       "        vertical-align: middle;\n",
       "    }\n",
       "\n",
       "    .dataframe tbody tr th {\n",
       "        vertical-align: top;\n",
       "    }\n",
       "\n",
       "    .dataframe thead th {\n",
       "        text-align: right;\n",
       "    }\n",
       "</style>\n",
       "<table border=\"1\" class=\"dataframe\">\n",
       "  <thead>\n",
       "    <tr style=\"text-align: right;\">\n",
       "      <th></th>\n",
       "      <th>a</th>\n",
       "      <th>b</th>\n",
       "      <th>c</th>\n",
       "    </tr>\n",
       "  </thead>\n",
       "  <tbody>\n",
       "    <tr>\n",
       "      <th>one</th>\n",
       "      <td>0.0</td>\n",
       "      <td>1.0</td>\n",
       "      <td>2.0</td>\n",
       "    </tr>\n",
       "    <tr>\n",
       "      <th>two</th>\n",
       "      <td>3.0</td>\n",
       "      <td>4.0</td>\n",
       "      <td>NaN</td>\n",
       "    </tr>\n",
       "  </tbody>\n",
       "</table>\n",
       "</div>"
      ],
      "text/plain": [
       "       a    b    c\n",
       "one  0.0  1.0  2.0\n",
       "two  3.0  4.0  NaN"
      ]
     },
     "execution_count": 3,
     "metadata": {},
     "output_type": "execute_result"
    }
   ],
   "source": [
    "index = pd.MultiIndex.from_tuples([('one', 'a'), ('one', 'b'), ('one', 'c'),\n",
    "                                   ('two', 'a'), ('two', 'b')])\n",
    "s1 = pd.Series(np.arange(5), index=index)\n",
    "print('############# s1')\n",
    "s1\n",
    "print('############# s1.unstack()')\n",
    "s1.unstack()"
   ]
  },
  {
   "cell_type": "markdown",
   "metadata": {},
   "source": [
    "## <실습5>\n",
    "* 연도별, 전용면적별 분양가격의 최대값을 아래와 같이 시각화 하시오\n",
    "* (groupby + unstack을 사용하시오)"
   ]
  },
  {
   "cell_type": "code",
   "execution_count": 26,
   "metadata": {},
   "outputs": [
    {
     "data": {
      "text/html": [
       "<div>\n",
       "<style scoped>\n",
       "    .dataframe tbody tr th:only-of-type {\n",
       "        vertical-align: middle;\n",
       "    }\n",
       "\n",
       "    .dataframe tbody tr th {\n",
       "        vertical-align: top;\n",
       "    }\n",
       "\n",
       "    .dataframe thead th {\n",
       "        text-align: right;\n",
       "    }\n",
       "</style>\n",
       "<table border=\"1\" class=\"dataframe\">\n",
       "  <thead>\n",
       "    <tr style=\"text-align: right;\">\n",
       "      <th>전용면적</th>\n",
       "      <th>102~</th>\n",
       "      <th>60~85</th>\n",
       "      <th>85~102</th>\n",
       "      <th>~60</th>\n",
       "      <th>전체</th>\n",
       "    </tr>\n",
       "    <tr>\n",
       "      <th>연도</th>\n",
       "      <th></th>\n",
       "      <th></th>\n",
       "      <th></th>\n",
       "      <th></th>\n",
       "      <th></th>\n",
       "    </tr>\n",
       "  </thead>\n",
       "  <tbody>\n",
       "    <tr>\n",
       "      <th>2015</th>\n",
       "      <td>21618.3</td>\n",
       "      <td>19687.8</td>\n",
       "      <td>23403.6</td>\n",
       "      <td>20859.3</td>\n",
       "      <td>19965.0</td>\n",
       "    </tr>\n",
       "    <tr>\n",
       "      <th>2016</th>\n",
       "      <td>23895.3</td>\n",
       "      <td>21572.1</td>\n",
       "      <td>26716.8</td>\n",
       "      <td>22152.9</td>\n",
       "      <td>21261.9</td>\n",
       "    </tr>\n",
       "    <tr>\n",
       "      <th>2017</th>\n",
       "      <td>22931.7</td>\n",
       "      <td>21522.6</td>\n",
       "      <td>26027.1</td>\n",
       "      <td>23116.5</td>\n",
       "      <td>22129.8</td>\n",
       "    </tr>\n",
       "    <tr>\n",
       "      <th>2018</th>\n",
       "      <td>24898.5</td>\n",
       "      <td>26037.0</td>\n",
       "      <td>26723.4</td>\n",
       "      <td>24413.4</td>\n",
       "      <td>24413.4</td>\n",
       "    </tr>\n",
       "    <tr>\n",
       "      <th>2019</th>\n",
       "      <td>29663.7</td>\n",
       "      <td>28340.4</td>\n",
       "      <td>42002.4</td>\n",
       "      <td>27327.3</td>\n",
       "      <td>26730.0</td>\n",
       "    </tr>\n",
       "  </tbody>\n",
       "</table>\n",
       "</div>"
      ],
      "text/plain": [
       "전용면적     102~    60~85   85~102      ~60       전체\n",
       "연도                                               \n",
       "2015  21618.3  19687.8  23403.6  20859.3  19965.0\n",
       "2016  23895.3  21572.1  26716.8  22152.9  21261.9\n",
       "2017  22931.7  21522.6  26027.1  23116.5  22129.8\n",
       "2018  24898.5  26037.0  26723.4  24413.4  24413.4\n",
       "2019  29663.7  28340.4  42002.4  27327.3  26730.0"
      ]
     },
     "execution_count": 26,
     "metadata": {},
     "output_type": "execute_result"
    },
    {
     "data": {
      "image/png": "[encoded data removed]",
      "text/plain": [
       "<Figure size 1000x500 with 2 Axes>"
      ]
     },
     "metadata": {},
     "output_type": "display_data"
    }
   ],
   "source": [
    "fig=plt.figure(figsize=(10,5))\n",
    "ax1, ax2=fig.subplots(2,1)\n",
    "\n",
    "## 코드작성\n",
    "# ax1\n",
    "df2=df_prep.groupby(['연도','전용면적'])['분양가격'].max().unstack(1)\n",
    "df2.head()\n",
    "_=df2.plot.bar(ax=ax1)\n",
    "_=ax1.legend(bbox_to_anchor=(1,1), loc='upper left')\n",
    "\n",
    "# ax2\n",
    "_=df2.T.plot.bar(ax=ax2)\n",
    "_=ax2.legend(bbox_to_anchor=(1,1), loc='upper left')\n",
    "\n",
    "fig.tight_layout()"
   ]
  },
  {
   "cell_type": "markdown",
   "metadata": {},
   "source": [
    "# pivot_table with 'columns' parameter\n",
    "* #####################################################################\n",
    "* groupby two groups + unstack <=====> pivot_table with columns parameter\n",
    "* #####################################################################"
   ]
  },
  {
   "cell_type": "markdown",
   "metadata": {},
   "source": [
    "## 지역별, 연도별 분양가격의 중앙값을 구하시오"
   ]
  },
  {
   "cell_type": "code",
   "execution_count": 32,
   "metadata": {},
   "outputs": [
    {
     "data": {
      "text/html": [
       "<div>\n",
       "<style scoped>\n",
       "    .dataframe tbody tr th:only-of-type {\n",
       "        vertical-align: middle;\n",
       "    }\n",
       "\n",
       "    .dataframe tbody tr th {\n",
       "        vertical-align: top;\n",
       "    }\n",
       "\n",
       "    .dataframe thead th {\n",
       "        text-align: right;\n",
       "    }\n",
       "</style>\n",
       "<table border=\"1\" class=\"dataframe\">\n",
       "  <thead>\n",
       "    <tr style=\"text-align: right;\">\n",
       "      <th>연도</th>\n",
       "      <th>2015</th>\n",
       "      <th>2016</th>\n",
       "      <th>2017</th>\n",
       "      <th>2018</th>\n",
       "      <th>2019</th>\n",
       "      <th>2020</th>\n",
       "      <th>2021</th>\n",
       "      <th>2022</th>\n",
       "      <th>2023</th>\n",
       "    </tr>\n",
       "    <tr>\n",
       "      <th>지역명</th>\n",
       "      <th></th>\n",
       "      <th></th>\n",
       "      <th></th>\n",
       "      <th></th>\n",
       "      <th></th>\n",
       "      <th></th>\n",
       "      <th></th>\n",
       "      <th></th>\n",
       "      <th></th>\n",
       "    </tr>\n",
       "  </thead>\n",
       "  <tbody>\n",
       "    <tr>\n",
       "      <th>강원</th>\n",
       "      <td>7164.30</td>\n",
       "      <td>7060.35</td>\n",
       "      <td>7329.30</td>\n",
       "      <td>7877.10</td>\n",
       "      <td>8347.35</td>\n",
       "      <td>9705.30</td>\n",
       "      <td>9819.15</td>\n",
       "      <td>10992.30</td>\n",
       "      <td>12114.30</td>\n",
       "    </tr>\n",
       "    <tr>\n",
       "      <th>경기</th>\n",
       "      <td>10866.90</td>\n",
       "      <td>11375.10</td>\n",
       "      <td>11980.65</td>\n",
       "      <td>14290.65</td>\n",
       "      <td>15117.30</td>\n",
       "      <td>14531.55</td>\n",
       "      <td>14152.05</td>\n",
       "      <td>16353.15</td>\n",
       "      <td>19818.15</td>\n",
       "    </tr>\n",
       "    <tr>\n",
       "      <th>경남</th>\n",
       "      <td>7662.60</td>\n",
       "      <td>8020.65</td>\n",
       "      <td>8652.60</td>\n",
       "      <td>9226.80</td>\n",
       "      <td>10107.90</td>\n",
       "      <td>10254.75</td>\n",
       "      <td>10635.90</td>\n",
       "      <td>11965.80</td>\n",
       "      <td>13002.00</td>\n",
       "    </tr>\n",
       "    <tr>\n",
       "      <th>경북</th>\n",
       "      <td>7273.20</td>\n",
       "      <td>7570.20</td>\n",
       "      <td>7943.10</td>\n",
       "      <td>8654.25</td>\n",
       "      <td>8723.55</td>\n",
       "      <td>9923.10</td>\n",
       "      <td>10520.40</td>\n",
       "      <td>11941.05</td>\n",
       "      <td>12500.40</td>\n",
       "    </tr>\n",
       "    <tr>\n",
       "      <th>광주</th>\n",
       "      <td>7999.20</td>\n",
       "      <td>9002.40</td>\n",
       "      <td>9504.00</td>\n",
       "      <td>9550.20</td>\n",
       "      <td>12150.60</td>\n",
       "      <td>12909.60</td>\n",
       "      <td>13919.40</td>\n",
       "      <td>15137.10</td>\n",
       "      <td>17537.85</td>\n",
       "    </tr>\n",
       "    <tr>\n",
       "      <th>대구</th>\n",
       "      <td>8896.80</td>\n",
       "      <td>10332.30</td>\n",
       "      <td>11756.25</td>\n",
       "      <td>12203.40</td>\n",
       "      <td>13959.00</td>\n",
       "      <td>15312.00</td>\n",
       "      <td>15544.65</td>\n",
       "      <td>16556.10</td>\n",
       "      <td>17087.40</td>\n",
       "    </tr>\n",
       "    <tr>\n",
       "      <th>대전</th>\n",
       "      <td>8109.75</td>\n",
       "      <td>8520.60</td>\n",
       "      <td>9038.70</td>\n",
       "      <td>9807.60</td>\n",
       "      <td>11889.90</td>\n",
       "      <td>11063.25</td>\n",
       "      <td>12198.45</td>\n",
       "      <td>13790.70</td>\n",
       "      <td>16249.20</td>\n",
       "    </tr>\n",
       "    <tr>\n",
       "      <th>부산</th>\n",
       "      <td>10005.60</td>\n",
       "      <td>10320.75</td>\n",
       "      <td>11726.55</td>\n",
       "      <td>12709.95</td>\n",
       "      <td>13389.75</td>\n",
       "      <td>13266.00</td>\n",
       "      <td>14336.85</td>\n",
       "      <td>17909.10</td>\n",
       "      <td>19199.40</td>\n",
       "    </tr>\n",
       "    <tr>\n",
       "      <th>서울</th>\n",
       "      <td>19935.30</td>\n",
       "      <td>21367.50</td>\n",
       "      <td>21699.15</td>\n",
       "      <td>22827.75</td>\n",
       "      <td>26914.80</td>\n",
       "      <td>27832.20</td>\n",
       "      <td>29521.80</td>\n",
       "      <td>29412.90</td>\n",
       "      <td>30919.35</td>\n",
       "    </tr>\n",
       "    <tr>\n",
       "      <th>세종</th>\n",
       "      <td>8768.10</td>\n",
       "      <td>8850.60</td>\n",
       "      <td>9022.20</td>\n",
       "      <td>10355.40</td>\n",
       "      <td>11411.40</td>\n",
       "      <td>11355.30</td>\n",
       "      <td>12642.30</td>\n",
       "      <td>11101.20</td>\n",
       "      <td>12279.30</td>\n",
       "    </tr>\n",
       "    <tr>\n",
       "      <th>울산</th>\n",
       "      <td>9484.20</td>\n",
       "      <td>9791.10</td>\n",
       "      <td>10484.10</td>\n",
       "      <td>10312.50</td>\n",
       "      <td>10319.10</td>\n",
       "      <td>13622.40</td>\n",
       "      <td>14312.10</td>\n",
       "      <td>17932.20</td>\n",
       "      <td>18321.60</td>\n",
       "    </tr>\n",
       "    <tr>\n",
       "      <th>인천</th>\n",
       "      <td>10982.40</td>\n",
       "      <td>10830.60</td>\n",
       "      <td>10931.25</td>\n",
       "      <td>11401.50</td>\n",
       "      <td>12888.15</td>\n",
       "      <td>15236.10</td>\n",
       "      <td>15543.00</td>\n",
       "      <td>16648.50</td>\n",
       "      <td>16089.15</td>\n",
       "    </tr>\n",
       "    <tr>\n",
       "      <th>전남</th>\n",
       "      <td>6596.70</td>\n",
       "      <td>6788.10</td>\n",
       "      <td>7329.30</td>\n",
       "      <td>7783.05</td>\n",
       "      <td>7906.80</td>\n",
       "      <td>8903.40</td>\n",
       "      <td>9969.30</td>\n",
       "      <td>10553.40</td>\n",
       "      <td>10982.40</td>\n",
       "    </tr>\n",
       "    <tr>\n",
       "      <th>전북</th>\n",
       "      <td>7019.10</td>\n",
       "      <td>6534.00</td>\n",
       "      <td>7454.70</td>\n",
       "      <td>7933.20</td>\n",
       "      <td>8679.00</td>\n",
       "      <td>8487.60</td>\n",
       "      <td>8718.60</td>\n",
       "      <td>10159.05</td>\n",
       "      <td>10942.80</td>\n",
       "    </tr>\n",
       "    <tr>\n",
       "      <th>제주</th>\n",
       "      <td>7989.30</td>\n",
       "      <td>9414.90</td>\n",
       "      <td>11005.50</td>\n",
       "      <td>11074.80</td>\n",
       "      <td>11883.30</td>\n",
       "      <td>14397.90</td>\n",
       "      <td>23166.00</td>\n",
       "      <td>20144.85</td>\n",
       "      <td>23014.20</td>\n",
       "    </tr>\n",
       "    <tr>\n",
       "      <th>충남</th>\n",
       "      <td>7520.70</td>\n",
       "      <td>7627.95</td>\n",
       "      <td>7705.50</td>\n",
       "      <td>8088.30</td>\n",
       "      <td>8675.70</td>\n",
       "      <td>9015.60</td>\n",
       "      <td>9532.05</td>\n",
       "      <td>11820.60</td>\n",
       "      <td>12493.80</td>\n",
       "    </tr>\n",
       "    <tr>\n",
       "      <th>충북</th>\n",
       "      <td>6656.10</td>\n",
       "      <td>7012.50</td>\n",
       "      <td>7134.60</td>\n",
       "      <td>7880.40</td>\n",
       "      <td>7656.00</td>\n",
       "      <td>7986.00</td>\n",
       "      <td>8817.60</td>\n",
       "      <td>9974.25</td>\n",
       "      <td>10786.05</td>\n",
       "    </tr>\n",
       "  </tbody>\n",
       "</table>\n",
       "</div>"
      ],
      "text/plain": [
       "연도       2015      2016      2017      2018      2019      2020      2021  \\\n",
       "지역명                                                                         \n",
       "강원    7164.30   7060.35   7329.30   7877.10   8347.35   9705.30   9819.15   \n",
       "경기   10866.90  11375.10  11980.65  14290.65  15117.30  14531.55  14152.05   \n",
       "경남    7662.60   8020.65   8652.60   9226.80  10107.90  10254.75  10635.90   \n",
       "경북    7273.20   7570.20   7943.10   8654.25   8723.55   9923.10  10520.40   \n",
       "광주    7999.20   9002.40   9504.00   9550.20  12150.60  12909.60  13919.40   \n",
       "대구    8896.80  10332.30  11756.25  12203.40  13959.00  15312.00  15544.65   \n",
       "대전    8109.75   8520.60   9038.70   9807.60  11889.90  11063.25  12198.45   \n",
       "부산   10005.60  10320.75  11726.55  12709.95  13389.75  13266.00  14336.85   \n",
       "서울   19935.30  21367.50  21699.15  22827.75  26914.80  27832.20  29521.80   \n",
       "세종    8768.10   8850.60   9022.20  10355.40  11411.40  11355.30  12642.30   \n",
       "울산    9484.20   9791.10  10484.10  10312.50  10319.10  13622.40  14312.10   \n",
       "인천   10982.40  10830.60  10931.25  11401.50  12888.15  15236.10  15543.00   \n",
       "전남    6596.70   6788.10   7329.30   7783.05   7906.80   8903.40   9969.30   \n",
       "전북    7019.10   6534.00   7454.70   7933.20   8679.00   8487.60   8718.60   \n",
       "제주    7989.30   9414.90  11005.50  11074.80  11883.30  14397.90  23166.00   \n",
       "충남    7520.70   7627.95   7705.50   8088.30   8675.70   9015.60   9532.05   \n",
       "충북    6656.10   7012.50   7134.60   7880.40   7656.00   7986.00   8817.60   \n",
       "\n",
       "연도       2022      2023  \n",
       "지역명                      \n",
       "강원   10992.30  12114.30  \n",
       "경기   16353.15  19818.15  \n",
       "경남   11965.80  13002.00  \n",
       "경북   11941.05  12500.40  \n",
       "광주   15137.10  17537.85  \n",
       "대구   16556.10  17087.40  \n",
       "대전   13790.70  16249.20  \n",
       "부산   17909.10  19199.40  \n",
       "서울   29412.90  30919.35  \n",
       "세종   11101.20  12279.30  \n",
       "울산   17932.20  18321.60  \n",
       "인천   16648.50  16089.15  \n",
       "전남   10553.40  10982.40  \n",
       "전북   10159.05  10942.80  \n",
       "제주   20144.85  23014.20  \n",
       "충남   11820.60  12493.80  \n",
       "충북    9974.25  10786.05  "
      ]
     },
     "execution_count": 32,
     "metadata": {},
     "output_type": "execute_result"
    },
    {
     "data": {
      "text/html": [
       "<div>\n",
       "<style scoped>\n",
       "    .dataframe tbody tr th:only-of-type {\n",
       "        vertical-align: middle;\n",
       "    }\n",
       "\n",
       "    .dataframe tbody tr th {\n",
       "        vertical-align: top;\n",
       "    }\n",
       "\n",
       "    .dataframe thead th {\n",
       "        text-align: right;\n",
       "    }\n",
       "</style>\n",
       "<table border=\"1\" class=\"dataframe\">\n",
       "  <thead>\n",
       "    <tr style=\"text-align: right;\">\n",
       "      <th>연도</th>\n",
       "      <th>2015</th>\n",
       "      <th>2016</th>\n",
       "      <th>2017</th>\n",
       "      <th>2018</th>\n",
       "      <th>2019</th>\n",
       "      <th>2020</th>\n",
       "      <th>2021</th>\n",
       "      <th>2022</th>\n",
       "      <th>2023</th>\n",
       "    </tr>\n",
       "    <tr>\n",
       "      <th>지역명</th>\n",
       "      <th></th>\n",
       "      <th></th>\n",
       "      <th></th>\n",
       "      <th></th>\n",
       "      <th></th>\n",
       "      <th></th>\n",
       "      <th></th>\n",
       "      <th></th>\n",
       "      <th></th>\n",
       "    </tr>\n",
       "  </thead>\n",
       "  <tbody>\n",
       "    <tr>\n",
       "      <th>강원</th>\n",
       "      <td>7164.30</td>\n",
       "      <td>7060.35</td>\n",
       "      <td>7329.30</td>\n",
       "      <td>7877.10</td>\n",
       "      <td>8347.35</td>\n",
       "      <td>9705.30</td>\n",
       "      <td>9819.15</td>\n",
       "      <td>10992.30</td>\n",
       "      <td>12114.30</td>\n",
       "    </tr>\n",
       "    <tr>\n",
       "      <th>경기</th>\n",
       "      <td>10866.90</td>\n",
       "      <td>11375.10</td>\n",
       "      <td>11980.65</td>\n",
       "      <td>14290.65</td>\n",
       "      <td>15117.30</td>\n",
       "      <td>14531.55</td>\n",
       "      <td>14152.05</td>\n",
       "      <td>16353.15</td>\n",
       "      <td>19818.15</td>\n",
       "    </tr>\n",
       "    <tr>\n",
       "      <th>경남</th>\n",
       "      <td>7662.60</td>\n",
       "      <td>8020.65</td>\n",
       "      <td>8652.60</td>\n",
       "      <td>9226.80</td>\n",
       "      <td>10107.90</td>\n",
       "      <td>10254.75</td>\n",
       "      <td>10635.90</td>\n",
       "      <td>11965.80</td>\n",
       "      <td>13002.00</td>\n",
       "    </tr>\n",
       "    <tr>\n",
       "      <th>경북</th>\n",
       "      <td>7273.20</td>\n",
       "      <td>7570.20</td>\n",
       "      <td>7943.10</td>\n",
       "      <td>8654.25</td>\n",
       "      <td>8723.55</td>\n",
       "      <td>9923.10</td>\n",
       "      <td>10520.40</td>\n",
       "      <td>11941.05</td>\n",
       "      <td>12500.40</td>\n",
       "    </tr>\n",
       "    <tr>\n",
       "      <th>광주</th>\n",
       "      <td>7999.20</td>\n",
       "      <td>9002.40</td>\n",
       "      <td>9504.00</td>\n",
       "      <td>9550.20</td>\n",
       "      <td>12150.60</td>\n",
       "      <td>12909.60</td>\n",
       "      <td>13919.40</td>\n",
       "      <td>15137.10</td>\n",
       "      <td>17537.85</td>\n",
       "    </tr>\n",
       "    <tr>\n",
       "      <th>대구</th>\n",
       "      <td>8896.80</td>\n",
       "      <td>10332.30</td>\n",
       "      <td>11756.25</td>\n",
       "      <td>12203.40</td>\n",
       "      <td>13959.00</td>\n",
       "      <td>15312.00</td>\n",
       "      <td>15544.65</td>\n",
       "      <td>16556.10</td>\n",
       "      <td>17087.40</td>\n",
       "    </tr>\n",
       "    <tr>\n",
       "      <th>대전</th>\n",
       "      <td>8109.75</td>\n",
       "      <td>8520.60</td>\n",
       "      <td>9038.70</td>\n",
       "      <td>9807.60</td>\n",
       "      <td>11889.90</td>\n",
       "      <td>11063.25</td>\n",
       "      <td>12198.45</td>\n",
       "      <td>13790.70</td>\n",
       "      <td>16249.20</td>\n",
       "    </tr>\n",
       "    <tr>\n",
       "      <th>부산</th>\n",
       "      <td>10005.60</td>\n",
       "      <td>10320.75</td>\n",
       "      <td>11726.55</td>\n",
       "      <td>12709.95</td>\n",
       "      <td>13389.75</td>\n",
       "      <td>13266.00</td>\n",
       "      <td>14336.85</td>\n",
       "      <td>17909.10</td>\n",
       "      <td>19199.40</td>\n",
       "    </tr>\n",
       "    <tr>\n",
       "      <th>서울</th>\n",
       "      <td>19935.30</td>\n",
       "      <td>21367.50</td>\n",
       "      <td>21699.15</td>\n",
       "      <td>22827.75</td>\n",
       "      <td>26914.80</td>\n",
       "      <td>27832.20</td>\n",
       "      <td>29521.80</td>\n",
       "      <td>29412.90</td>\n",
       "      <td>30919.35</td>\n",
       "    </tr>\n",
       "    <tr>\n",
       "      <th>세종</th>\n",
       "      <td>8768.10</td>\n",
       "      <td>8850.60</td>\n",
       "      <td>9022.20</td>\n",
       "      <td>10355.40</td>\n",
       "      <td>11411.40</td>\n",
       "      <td>11355.30</td>\n",
       "      <td>12642.30</td>\n",
       "      <td>11101.20</td>\n",
       "      <td>12279.30</td>\n",
       "    </tr>\n",
       "    <tr>\n",
       "      <th>울산</th>\n",
       "      <td>9484.20</td>\n",
       "      <td>9791.10</td>\n",
       "      <td>10484.10</td>\n",
       "      <td>10312.50</td>\n",
       "      <td>10319.10</td>\n",
       "      <td>13622.40</td>\n",
       "      <td>14312.10</td>\n",
       "      <td>17932.20</td>\n",
       "      <td>18321.60</td>\n",
       "    </tr>\n",
       "    <tr>\n",
       "      <th>인천</th>\n",
       "      <td>10982.40</td>\n",
       "      <td>10830.60</td>\n",
       "      <td>10931.25</td>\n",
       "      <td>11401.50</td>\n",
       "      <td>12888.15</td>\n",
       "      <td>15236.10</td>\n",
       "      <td>15543.00</td>\n",
       "      <td>16648.50</td>\n",
       "      <td>16089.15</td>\n",
       "    </tr>\n",
       "    <tr>\n",
       "      <th>전남</th>\n",
       "      <td>6596.70</td>\n",
       "      <td>6788.10</td>\n",
       "      <td>7329.30</td>\n",
       "      <td>7783.05</td>\n",
       "      <td>7906.80</td>\n",
       "      <td>8903.40</td>\n",
       "      <td>9969.30</td>\n",
       "      <td>10553.40</td>\n",
       "      <td>10982.40</td>\n",
       "    </tr>\n",
       "    <tr>\n",
       "      <th>전북</th>\n",
       "      <td>7019.10</td>\n",
       "      <td>6534.00</td>\n",
       "      <td>7454.70</td>\n",
       "      <td>7933.20</td>\n",
       "      <td>8679.00</td>\n",
       "      <td>8487.60</td>\n",
       "      <td>8718.60</td>\n",
       "      <td>10159.05</td>\n",
       "      <td>10942.80</td>\n",
       "    </tr>\n",
       "    <tr>\n",
       "      <th>제주</th>\n",
       "      <td>7989.30</td>\n",
       "      <td>9414.90</td>\n",
       "      <td>11005.50</td>\n",
       "      <td>11074.80</td>\n",
       "      <td>11883.30</td>\n",
       "      <td>14397.90</td>\n",
       "      <td>23166.00</td>\n",
       "      <td>20144.85</td>\n",
       "      <td>23014.20</td>\n",
       "    </tr>\n",
       "    <tr>\n",
       "      <th>충남</th>\n",
       "      <td>7520.70</td>\n",
       "      <td>7627.95</td>\n",
       "      <td>7705.50</td>\n",
       "      <td>8088.30</td>\n",
       "      <td>8675.70</td>\n",
       "      <td>9015.60</td>\n",
       "      <td>9532.05</td>\n",
       "      <td>11820.60</td>\n",
       "      <td>12493.80</td>\n",
       "    </tr>\n",
       "    <tr>\n",
       "      <th>충북</th>\n",
       "      <td>6656.10</td>\n",
       "      <td>7012.50</td>\n",
       "      <td>7134.60</td>\n",
       "      <td>7880.40</td>\n",
       "      <td>7656.00</td>\n",
       "      <td>7986.00</td>\n",
       "      <td>8817.60</td>\n",
       "      <td>9974.25</td>\n",
       "      <td>10786.05</td>\n",
       "    </tr>\n",
       "  </tbody>\n",
       "</table>\n",
       "</div>"
      ],
      "text/plain": [
       "연도       2015      2016      2017      2018      2019      2020      2021  \\\n",
       "지역명                                                                         \n",
       "강원    7164.30   7060.35   7329.30   7877.10   8347.35   9705.30   9819.15   \n",
       "경기   10866.90  11375.10  11980.65  14290.65  15117.30  14531.55  14152.05   \n",
       "경남    7662.60   8020.65   8652.60   9226.80  10107.90  10254.75  10635.90   \n",
       "경북    7273.20   7570.20   7943.10   8654.25   8723.55   9923.10  10520.40   \n",
       "광주    7999.20   9002.40   9504.00   9550.20  12150.60  12909.60  13919.40   \n",
       "대구    8896.80  10332.30  11756.25  12203.40  13959.00  15312.00  15544.65   \n",
       "대전    8109.75   8520.60   9038.70   9807.60  11889.90  11063.25  12198.45   \n",
       "부산   10005.60  10320.75  11726.55  12709.95  13389.75  13266.00  14336.85   \n",
       "서울   19935.30  21367.50  21699.15  22827.75  26914.80  27832.20  29521.80   \n",
       "세종    8768.10   8850.60   9022.20  10355.40  11411.40  11355.30  12642.30   \n",
       "울산    9484.20   9791.10  10484.10  10312.50  10319.10  13622.40  14312.10   \n",
       "인천   10982.40  10830.60  10931.25  11401.50  12888.15  15236.10  15543.00   \n",
       "전남    6596.70   6788.10   7329.30   7783.05   7906.80   8903.40   9969.30   \n",
       "전북    7019.10   6534.00   7454.70   7933.20   8679.00   8487.60   8718.60   \n",
       "제주    7989.30   9414.90  11005.50  11074.80  11883.30  14397.90  23166.00   \n",
       "충남    7520.70   7627.95   7705.50   8088.30   8675.70   9015.60   9532.05   \n",
       "충북    6656.10   7012.50   7134.60   7880.40   7656.00   7986.00   8817.60   \n",
       "\n",
       "연도       2022      2023  \n",
       "지역명                      \n",
       "강원   10992.30  12114.30  \n",
       "경기   16353.15  19818.15  \n",
       "경남   11965.80  13002.00  \n",
       "경북   11941.05  12500.40  \n",
       "광주   15137.10  17537.85  \n",
       "대구   16556.10  17087.40  \n",
       "대전   13790.70  16249.20  \n",
       "부산   17909.10  19199.40  \n",
       "서울   29412.90  30919.35  \n",
       "세종   11101.20  12279.30  \n",
       "울산   17932.20  18321.60  \n",
       "인천   16648.50  16089.15  \n",
       "전남   10553.40  10982.40  \n",
       "전북   10159.05  10942.80  \n",
       "제주   20144.85  23014.20  \n",
       "충남   11820.60  12493.80  \n",
       "충북    9974.25  10786.05  "
      ]
     },
     "execution_count": 32,
     "metadata": {},
     "output_type": "execute_result"
    }
   ],
   "source": [
    "## pivot_table with columns\n",
    "df_prep.pivot_table(index=\"지역명\", columns=\"연도\", values=\"분양가격\", aggfunc='median')\n",
    "\n",
    "## groupby + unstack\n",
    "df_prep.groupby([\"지역명\",\"연도\"])[\"분양가격\"].median().unstack(1)"
   ]
  },
  {
   "cell_type": "markdown",
   "metadata": {},
   "source": [
    "## <실습6>\n",
    "* 연도별, 지역별 평균값을 아래와 같이 시각화 하시오\n",
    "* (pivot_table columns 파라미터를 사용하시오)"
   ]
  },
  {
   "cell_type": "code",
   "execution_count": 53,
   "metadata": {},
   "outputs": [
    {
     "data": {
      "text/html": [
       "<div>\n",
       "<style scoped>\n",
       "    .dataframe tbody tr th:only-of-type {\n",
       "        vertical-align: middle;\n",
       "    }\n",
       "\n",
       "    .dataframe tbody tr th {\n",
       "        vertical-align: top;\n",
       "    }\n",
       "\n",
       "    .dataframe thead th {\n",
       "        text-align: right;\n",
       "    }\n",
       "</style>\n",
       "<table border=\"1\" class=\"dataframe\">\n",
       "  <thead>\n",
       "    <tr style=\"text-align: right;\">\n",
       "      <th>지역명</th>\n",
       "      <th>강원</th>\n",
       "      <th>경기</th>\n",
       "      <th>경남</th>\n",
       "      <th>경북</th>\n",
       "      <th>광주</th>\n",
       "      <th>대구</th>\n",
       "      <th>대전</th>\n",
       "      <th>부산</th>\n",
       "      <th>서울</th>\n",
       "      <th>세종</th>\n",
       "      <th>울산</th>\n",
       "      <th>인천</th>\n",
       "      <th>전남</th>\n",
       "      <th>전북</th>\n",
       "      <th>제주</th>\n",
       "      <th>충남</th>\n",
       "      <th>충북</th>\n",
       "    </tr>\n",
       "    <tr>\n",
       "      <th>연도</th>\n",
       "      <th></th>\n",
       "      <th></th>\n",
       "      <th></th>\n",
       "      <th></th>\n",
       "      <th></th>\n",
       "      <th></th>\n",
       "      <th></th>\n",
       "      <th></th>\n",
       "      <th></th>\n",
       "      <th></th>\n",
       "      <th></th>\n",
       "      <th></th>\n",
       "      <th></th>\n",
       "      <th></th>\n",
       "      <th></th>\n",
       "      <th></th>\n",
       "      <th></th>\n",
       "    </tr>\n",
       "  </thead>\n",
       "  <tbody>\n",
       "    <tr>\n",
       "      <th>2015</th>\n",
       "      <td>7188.060000</td>\n",
       "      <td>11060.940</td>\n",
       "      <td>8459.220000</td>\n",
       "      <td>7464.160000</td>\n",
       "      <td>7916.700000</td>\n",
       "      <td>9018.900000</td>\n",
       "      <td>8190.600000</td>\n",
       "      <td>10377.400</td>\n",
       "      <td>20315.680</td>\n",
       "      <td>8765.020000</td>\n",
       "      <td>9367.600000</td>\n",
       "      <td>10976.020000</td>\n",
       "      <td>6798.880000</td>\n",
       "      <td>7110.400000</td>\n",
       "      <td>7951.075000</td>\n",
       "      <td>7689.880000</td>\n",
       "      <td>6828.800</td>\n",
       "    </tr>\n",
       "    <tr>\n",
       "      <th>2016</th>\n",
       "      <td>7162.903846</td>\n",
       "      <td>11684.970</td>\n",
       "      <td>8496.730000</td>\n",
       "      <td>7753.405000</td>\n",
       "      <td>9190.683333</td>\n",
       "      <td>10282.030000</td>\n",
       "      <td>8910.733333</td>\n",
       "      <td>10743.535</td>\n",
       "      <td>21753.435</td>\n",
       "      <td>8857.805000</td>\n",
       "      <td>9582.574138</td>\n",
       "      <td>11099.055000</td>\n",
       "      <td>6936.600000</td>\n",
       "      <td>6906.625000</td>\n",
       "      <td>9567.480000</td>\n",
       "      <td>7958.225000</td>\n",
       "      <td>7133.335</td>\n",
       "    </tr>\n",
       "    <tr>\n",
       "      <th>2017</th>\n",
       "      <td>7318.850000</td>\n",
       "      <td>12296.185</td>\n",
       "      <td>8806.600000</td>\n",
       "      <td>8288.063793</td>\n",
       "      <td>9599.700000</td>\n",
       "      <td>12191.972222</td>\n",
       "      <td>9912.910526</td>\n",
       "      <td>11637.615</td>\n",
       "      <td>21864.095</td>\n",
       "      <td>9132.945763</td>\n",
       "      <td>10630.160870</td>\n",
       "      <td>11672.430000</td>\n",
       "      <td>7413.230000</td>\n",
       "      <td>7406.126316</td>\n",
       "      <td>12628.539623</td>\n",
       "      <td>8157.315517</td>\n",
       "      <td>7462.565</td>\n",
       "    </tr>\n",
       "    <tr>\n",
       "      <th>2018</th>\n",
       "      <td>8219.255000</td>\n",
       "      <td>14258.420</td>\n",
       "      <td>9327.670000</td>\n",
       "      <td>8680.776923</td>\n",
       "      <td>9526.953333</td>\n",
       "      <td>12139.252632</td>\n",
       "      <td>10234.106667</td>\n",
       "      <td>12889.965</td>\n",
       "      <td>23202.245</td>\n",
       "      <td>10340.463158</td>\n",
       "      <td>10241.400000</td>\n",
       "      <td>11881.532143</td>\n",
       "      <td>7929.845000</td>\n",
       "      <td>8174.595000</td>\n",
       "      <td>11935.968000</td>\n",
       "      <td>8201.820000</td>\n",
       "      <td>8149.295</td>\n",
       "    </tr>\n",
       "    <tr>\n",
       "      <th>2019</th>\n",
       "      <td>8934.475000</td>\n",
       "      <td>15665.540</td>\n",
       "      <td>10697.615789</td>\n",
       "      <td>9050.250000</td>\n",
       "      <td>12111.675000</td>\n",
       "      <td>14081.650000</td>\n",
       "      <td>12619.200000</td>\n",
       "      <td>13537.865</td>\n",
       "      <td>28286.830</td>\n",
       "      <td>11299.394118</td>\n",
       "      <td>10216.250000</td>\n",
       "      <td>13249.775000</td>\n",
       "      <td>8219.275862</td>\n",
       "      <td>8532.260000</td>\n",
       "      <td>11828.469231</td>\n",
       "      <td>8748.840000</td>\n",
       "      <td>7970.875</td>\n",
       "    </tr>\n",
       "  </tbody>\n",
       "</table>\n",
       "</div>"
      ],
      "text/plain": [
       "지역명            강원         경기            경남           경북            광주  \\\n",
       "연도                                                                      \n",
       "2015  7188.060000  11060.940   8459.220000  7464.160000   7916.700000   \n",
       "2016  7162.903846  11684.970   8496.730000  7753.405000   9190.683333   \n",
       "2017  7318.850000  12296.185   8806.600000  8288.063793   9599.700000   \n",
       "2018  8219.255000  14258.420   9327.670000  8680.776923   9526.953333   \n",
       "2019  8934.475000  15665.540  10697.615789  9050.250000  12111.675000   \n",
       "\n",
       "지역명             대구            대전         부산         서울            세종  \\\n",
       "연도                                                                     \n",
       "2015   9018.900000   8190.600000  10377.400  20315.680   8765.020000   \n",
       "2016  10282.030000   8910.733333  10743.535  21753.435   8857.805000   \n",
       "2017  12191.972222   9912.910526  11637.615  21864.095   9132.945763   \n",
       "2018  12139.252632  10234.106667  12889.965  23202.245  10340.463158   \n",
       "2019  14081.650000  12619.200000  13537.865  28286.830  11299.394118   \n",
       "\n",
       "지역명             울산            인천           전남           전북            제주  \\\n",
       "연도                                                                         \n",
       "2015   9367.600000  10976.020000  6798.880000  7110.400000   7951.075000   \n",
       "2016   9582.574138  11099.055000  6936.600000  6906.625000   9567.480000   \n",
       "2017  10630.160870  11672.430000  7413.230000  7406.126316  12628.539623   \n",
       "2018  10241.400000  11881.532143  7929.845000  8174.595000  11935.968000   \n",
       "2019  10216.250000  13249.775000  8219.275862  8532.260000  11828.469231   \n",
       "\n",
       "지역명            충남        충북  \n",
       "연도                           \n",
       "2015  7689.880000  6828.800  \n",
       "2016  7958.225000  7133.335  \n",
       "2017  8157.315517  7462.565  \n",
       "2018  8201.820000  8149.295  \n",
       "2019  8748.840000  7970.875  "
      ]
     },
     "execution_count": 53,
     "metadata": {},
     "output_type": "execute_result"
    },
    {
     "data": {
      "image/png": "[encoded data removed]",
      "text/plain": [
       "<Figure size 1300x300 with 1 Axes>"
      ]
     },
     "metadata": {},
     "output_type": "display_data"
    }
   ],
   "source": [
    "fig=plt.figure(figsize=(13,3))\n",
    "ax1 = fig.subplots()\n",
    "\n",
    "## 코드작성\n"
   ]
  },
  {
   "cell_type": "markdown",
   "metadata": {},
   "source": [
    "# === 실습풀이 ==="
   ]
  },
  {
   "cell_type": "markdown",
   "metadata": {},
   "source": [
    "## <실습1>\n",
    "* 전용면적별로 분양가격의 평균을 구하고, 전용면적별로 그 평균보다 높은 값들의 비율을 구하시오\n",
    "* (pivot_table, groupby 각각 사용)"
   ]
  },
  {
   "cell_type": "code",
   "execution_count": 38,
   "metadata": {},
   "outputs": [
    {
     "data": {
      "text/html": [
       "<div>\n",
       "<style scoped>\n",
       "    .dataframe tbody tr th:only-of-type {\n",
       "        vertical-align: middle;\n",
       "    }\n",
       "\n",
       "    .dataframe tbody tr th {\n",
       "        vertical-align: top;\n",
       "    }\n",
       "\n",
       "    .dataframe thead th {\n",
       "        text-align: right;\n",
       "    }\n",
       "</style>\n",
       "<table border=\"1\" class=\"dataframe\">\n",
       "  <thead>\n",
       "    <tr style=\"text-align: right;\">\n",
       "      <th></th>\n",
       "      <th>분양가격</th>\n",
       "    </tr>\n",
       "    <tr>\n",
       "      <th>전용면적</th>\n",
       "      <th></th>\n",
       "    </tr>\n",
       "  </thead>\n",
       "  <tbody>\n",
       "    <tr>\n",
       "      <th>102~</th>\n",
       "      <td>0.400844</td>\n",
       "    </tr>\n",
       "    <tr>\n",
       "      <th>60~85</th>\n",
       "      <td>0.365963</td>\n",
       "    </tr>\n",
       "    <tr>\n",
       "      <th>85~102</th>\n",
       "      <td>0.353543</td>\n",
       "    </tr>\n",
       "    <tr>\n",
       "      <th>~60</th>\n",
       "      <td>0.374417</td>\n",
       "    </tr>\n",
       "    <tr>\n",
       "      <th>전체</th>\n",
       "      <td>0.371009</td>\n",
       "    </tr>\n",
       "  </tbody>\n",
       "</table>\n",
       "</div>"
      ],
      "text/plain": [
       "            분양가격\n",
       "전용면적            \n",
       "102~    0.400844\n",
       "60~85   0.365963\n",
       "85~102  0.353543\n",
       "~60     0.374417\n",
       "전체      0.371009"
      ]
     },
     "execution_count": 38,
     "metadata": {},
     "output_type": "execute_result"
    },
    {
     "data": {
      "text/plain": [
       "전용면적\n",
       "102~      0.400844\n",
       "60~85     0.365963\n",
       "85~102    0.353543\n",
       "~60       0.374417\n",
       "전체        0.371009\n",
       "Name: 분양가격, dtype: float64"
      ]
     },
     "execution_count": 38,
     "metadata": {},
     "output_type": "execute_result"
    }
   ],
   "source": [
    "def num_of_above_ave(sr1):\n",
    "    m1=sr1.mean()\n",
    "    num1=np.sum(sr1>m1)\n",
    "    len1=len(sr1)\n",
    "    \n",
    "    return num1/len1\n",
    "\n",
    "## pivot_table\n",
    "df_prep.pivot_table(index='전용면적', values='분양가격', aggfunc=num_of_above_ave)\n",
    "## groupby\n",
    "df_prep.groupby(['전용면적'])['분양가격'].apply(num_of_above_ave)"
   ]
  },
  {
   "cell_type": "markdown",
   "metadata": {},
   "source": [
    "## <실습2>\n",
    "* 지역별로 평균(a1)대비 최대분양가격(m1)과 최소 분양가격의 차이(n1)를 구하고 bargraph로 그리시오\n",
    "* (m1-n1)/a1"
   ]
  },
  {
   "cell_type": "code",
   "execution_count": 45,
   "metadata": {},
   "outputs": [
    {
     "data": {
      "text/plain": [
       "<Axes: xlabel='지역명'>"
      ]
     },
     "execution_count": 45,
     "metadata": {},
     "output_type": "execute_result"
    },
    {
     "data": {
      "image/png": "[encoded data removed]",
      "text/plain": [
       "<Figure size 500x200 with 1 Axes>"
      ]
     },
     "metadata": {},
     "output_type": "display_data"
    }
   ],
   "source": [
    "fig=plt.figure(figsize=(5,2))\n",
    "ax1 = fig.subplots()\n",
    "\n",
    "def f1(sr1):\n",
    "    return (sr1.max()-sr1.min())/sr1.mean()\n",
    "    \n",
    "sr2=df_prep.groupby('지역명')['분양가격'].apply(f1).sort_values()\n",
    "sr2.plot.bar(ax=ax1)"
   ]
  },
  {
   "cell_type": "markdown",
   "metadata": {},
   "source": [
    "## <실습3>\n",
    "* 1) 지역별 평당분양가격의 최소값을 구하시오 (mn)\n",
    "* 2) 지역별 평당분양가격의 최대값을 구하시오 (mx)\n",
    "* 3) mn, mx를 이용하여 ax1에 아래와 같이 그림을 그리시오\n",
    "* (단, max 값이 큰 순서대로 도시를 나열하여 시각화 하시오)"
   ]
  },
  {
   "cell_type": "code",
   "execution_count": 31,
   "metadata": {},
   "outputs": [
    {
     "data": {
      "text/plain": [
       "지역명\n",
       "강원     6639.6\n",
       "경기    10160.7\n",
       "경남     7260.0\n",
       "Name: 분양가격, dtype: float64"
      ]
     },
     "execution_count": 31,
     "metadata": {},
     "output_type": "execute_result"
    },
    {
     "data": {
      "text/plain": [
       "지역명\n",
       "강원    14899.5\n",
       "경기    22585.2\n",
       "경남    16566.0\n",
       "Name: 분양가격, dtype: float64"
      ]
     },
     "execution_count": 31,
     "metadata": {},
     "output_type": "execute_result"
    },
    {
     "data": {
      "text/html": [
       "<div>\n",
       "<style scoped>\n",
       "    .dataframe tbody tr th:only-of-type {\n",
       "        vertical-align: middle;\n",
       "    }\n",
       "\n",
       "    .dataframe tbody tr th {\n",
       "        vertical-align: top;\n",
       "    }\n",
       "\n",
       "    .dataframe thead th {\n",
       "        text-align: right;\n",
       "    }\n",
       "</style>\n",
       "<table border=\"1\" class=\"dataframe\">\n",
       "  <thead>\n",
       "    <tr style=\"text-align: right;\">\n",
       "      <th></th>\n",
       "      <th>max</th>\n",
       "      <th>min</th>\n",
       "    </tr>\n",
       "    <tr>\n",
       "      <th>지역명</th>\n",
       "      <th></th>\n",
       "      <th></th>\n",
       "    </tr>\n",
       "  </thead>\n",
       "  <tbody>\n",
       "    <tr>\n",
       "      <th>서울</th>\n",
       "      <td>45655.5</td>\n",
       "      <td>16701.3</td>\n",
       "    </tr>\n",
       "    <tr>\n",
       "      <th>제주</th>\n",
       "      <td>27753.0</td>\n",
       "      <td>7342.5</td>\n",
       "    </tr>\n",
       "    <tr>\n",
       "      <th>울산</th>\n",
       "      <td>27188.7</td>\n",
       "      <td>7992.6</td>\n",
       "    </tr>\n",
       "  </tbody>\n",
       "</table>\n",
       "</div>"
      ],
      "text/plain": [
       "         max      min\n",
       "지역명                  \n",
       "서울   45655.5  16701.3\n",
       "제주   27753.0   7342.5\n",
       "울산   27188.7   7992.6"
      ]
     },
     "execution_count": 31,
     "metadata": {},
     "output_type": "execute_result"
    },
    {
     "data": {
      "text/plain": [
       "<Axes: xlabel='지역명'>"
      ]
     },
     "execution_count": 31,
     "metadata": {},
     "output_type": "execute_result"
    },
    {
     "data": {
      "image/png": "[encoded data removed]",
      "text/plain": [
       "<Figure size 800x200 with 1 Axes>"
      ]
     },
     "metadata": {},
     "output_type": "display_data"
    }
   ],
   "source": [
    "fig=plt.figure(figsize=(8,2))\n",
    "ax1 = fig.subplots()\n",
    "# 1)\n",
    "## 코드작성 ##\n",
    "mn=df_prep.groupby(['지역명'])[\"분양가격\"].min()\n",
    "mn.head(3)\n",
    "## 코드작성 끝##\n",
    "\n",
    "# 2)\n",
    "## 코드작성 ##\n",
    "mx=df_prep.groupby(['지역명'])[\"분양가격\"].max()\n",
    "mx.head(3)\n",
    "## 코드작성 끝##\n",
    "\n",
    "# 3)\n",
    "### ax1\n",
    "mg=pd.concat([mx,mn], axis=1)\n",
    "mg.columns=['max','min']\n",
    "mg2=mg.sort_values(by='max', ascending=False)\n",
    "mg2.head(3)\n",
    "mg2.plot.bar(ax=ax1)\n"
   ]
  },
  {
   "cell_type": "code",
   "execution_count": null,
   "metadata": {},
   "outputs": [],
   "source": []
  },
  {
   "cell_type": "markdown",
   "metadata": {},
   "source": [
    "## <실습4>\n",
    "* 연도별, 전용면적별 최대값을 아래와 같이 시각화 하시오\n",
    "* (조건: groupby 사용)"
   ]
  },
  {
   "cell_type": "code",
   "execution_count": 52,
   "metadata": {},
   "outputs": [
    {
     "data": {
      "text/plain": [
       "연도    전용면적  \n",
       "2015  102~      21618.3\n",
       "      60~85     19687.8\n",
       "      85~102    23403.6\n",
       "      ~60       20859.3\n",
       "      전체        19965.0\n",
       "2016  102~      23895.3\n",
       "      60~85     21572.1\n",
       "Name: 분양가격, dtype: float64"
      ]
     },
     "execution_count": 52,
     "metadata": {},
     "output_type": "execute_result"
    },
    {
     "data": {
      "image/png": "[encoded data removed]",
      "text/plain": [
       "<Figure size 1000x300 with 1 Axes>"
      ]
     },
     "metadata": {},
     "output_type": "display_data"
    }
   ],
   "source": [
    "fig=plt.figure(figsize=(10,3))\n",
    "ax1 = fig.subplots()\n",
    "\n",
    "## 코드작성\n",
    "## ax1\n",
    "sr1=df_prep.groupby(['연도','전용면적'])['분양가격'].max()\n",
    "sr1.head(7)\n",
    "_=sr1.plot.bar(ax=ax1)"
   ]
  },
  {
   "cell_type": "markdown",
   "metadata": {},
   "source": [
    "## <실습5>\n",
    "* 연도별, 전용면적별 최대값을 아래와 같이 시각화 하시오\n",
    "* (groupby + unstack을 사용하시오)"
   ]
  },
  {
   "cell_type": "code",
   "execution_count": 27,
   "metadata": {},
   "outputs": [
    {
     "data": {
      "text/html": [
       "<div>\n",
       "<style scoped>\n",
       "    .dataframe tbody tr th:only-of-type {\n",
       "        vertical-align: middle;\n",
       "    }\n",
       "\n",
       "    .dataframe tbody tr th {\n",
       "        vertical-align: top;\n",
       "    }\n",
       "\n",
       "    .dataframe thead th {\n",
       "        text-align: right;\n",
       "    }\n",
       "</style>\n",
       "<table border=\"1\" class=\"dataframe\">\n",
       "  <thead>\n",
       "    <tr style=\"text-align: right;\">\n",
       "      <th>전용면적</th>\n",
       "      <th>102~</th>\n",
       "      <th>60~85</th>\n",
       "      <th>85~102</th>\n",
       "      <th>~60</th>\n",
       "      <th>전체</th>\n",
       "    </tr>\n",
       "    <tr>\n",
       "      <th>연도</th>\n",
       "      <th></th>\n",
       "      <th></th>\n",
       "      <th></th>\n",
       "      <th></th>\n",
       "      <th></th>\n",
       "    </tr>\n",
       "  </thead>\n",
       "  <tbody>\n",
       "    <tr>\n",
       "      <th>2015</th>\n",
       "      <td>21618.3</td>\n",
       "      <td>19687.8</td>\n",
       "      <td>23403.6</td>\n",
       "      <td>20859.3</td>\n",
       "      <td>19965.0</td>\n",
       "    </tr>\n",
       "    <tr>\n",
       "      <th>2016</th>\n",
       "      <td>23895.3</td>\n",
       "      <td>21572.1</td>\n",
       "      <td>26716.8</td>\n",
       "      <td>22152.9</td>\n",
       "      <td>21261.9</td>\n",
       "    </tr>\n",
       "    <tr>\n",
       "      <th>2017</th>\n",
       "      <td>22931.7</td>\n",
       "      <td>21522.6</td>\n",
       "      <td>26027.1</td>\n",
       "      <td>23116.5</td>\n",
       "      <td>22129.8</td>\n",
       "    </tr>\n",
       "    <tr>\n",
       "      <th>2018</th>\n",
       "      <td>24898.5</td>\n",
       "      <td>26037.0</td>\n",
       "      <td>26723.4</td>\n",
       "      <td>24413.4</td>\n",
       "      <td>24413.4</td>\n",
       "    </tr>\n",
       "    <tr>\n",
       "      <th>2019</th>\n",
       "      <td>29663.7</td>\n",
       "      <td>28340.4</td>\n",
       "      <td>42002.4</td>\n",
       "      <td>27327.3</td>\n",
       "      <td>26730.0</td>\n",
       "    </tr>\n",
       "  </tbody>\n",
       "</table>\n",
       "</div>"
      ],
      "text/plain": [
       "전용면적     102~    60~85   85~102      ~60       전체\n",
       "연도                                               \n",
       "2015  21618.3  19687.8  23403.6  20859.3  19965.0\n",
       "2016  23895.3  21572.1  26716.8  22152.9  21261.9\n",
       "2017  22931.7  21522.6  26027.1  23116.5  22129.8\n",
       "2018  24898.5  26037.0  26723.4  24413.4  24413.4\n",
       "2019  29663.7  28340.4  42002.4  27327.3  26730.0"
      ]
     },
     "execution_count": 27,
     "metadata": {},
     "output_type": "execute_result"
    },
    {
     "data": {
      "image/png": "[encoded data removed]",
      "text/plain": [
       "<Figure size 1000x500 with 2 Axes>"
      ]
     },
     "metadata": {},
     "output_type": "display_data"
    }
   ],
   "source": [
    "fig=plt.figure(figsize=(10,5))\n",
    "ax1, ax2=fig.subplots(2,1)\n",
    "\n",
    "## 코드작성\n",
    "# ax1\n",
    "df2=df_prep.groupby(['연도','전용면적'])['분양가격'].max().unstack(1)\n",
    "df2.head()\n",
    "_=df2.plot.bar(ax=ax1)\n",
    "_=ax1.legend(bbox_to_anchor=(1,1), loc='upper left')\n",
    "\n",
    "# ax2\n",
    "_=df2.T.plot.bar(ax=ax2)\n",
    "_=ax2.legend(bbox_to_anchor=(1,1), loc='upper left')\n",
    "\n",
    "fig.tight_layout()"
   ]
  },
  {
   "cell_type": "markdown",
   "metadata": {},
   "source": [
    "## <실습6>\n",
    "* 연도별, 지역별 평균값을 아래와 같이 시각화 하시오\n",
    "* (pivot_table columns 파라미터를 사용하시오)"
   ]
  },
  {
   "cell_type": "code",
   "execution_count": 52,
   "metadata": {},
   "outputs": [
    {
     "data": {
      "text/html": [
       "<div>\n",
       "<style scoped>\n",
       "    .dataframe tbody tr th:only-of-type {\n",
       "        vertical-align: middle;\n",
       "    }\n",
       "\n",
       "    .dataframe tbody tr th {\n",
       "        vertical-align: top;\n",
       "    }\n",
       "\n",
       "    .dataframe thead th {\n",
       "        text-align: right;\n",
       "    }\n",
       "</style>\n",
       "<table border=\"1\" class=\"dataframe\">\n",
       "  <thead>\n",
       "    <tr style=\"text-align: right;\">\n",
       "      <th>지역명</th>\n",
       "      <th>강원</th>\n",
       "      <th>경기</th>\n",
       "      <th>경남</th>\n",
       "      <th>경북</th>\n",
       "      <th>광주</th>\n",
       "      <th>대구</th>\n",
       "      <th>대전</th>\n",
       "      <th>부산</th>\n",
       "      <th>서울</th>\n",
       "      <th>세종</th>\n",
       "      <th>울산</th>\n",
       "      <th>인천</th>\n",
       "      <th>전남</th>\n",
       "      <th>전북</th>\n",
       "      <th>제주</th>\n",
       "      <th>충남</th>\n",
       "      <th>충북</th>\n",
       "    </tr>\n",
       "    <tr>\n",
       "      <th>연도</th>\n",
       "      <th></th>\n",
       "      <th></th>\n",
       "      <th></th>\n",
       "      <th></th>\n",
       "      <th></th>\n",
       "      <th></th>\n",
       "      <th></th>\n",
       "      <th></th>\n",
       "      <th></th>\n",
       "      <th></th>\n",
       "      <th></th>\n",
       "      <th></th>\n",
       "      <th></th>\n",
       "      <th></th>\n",
       "      <th></th>\n",
       "      <th></th>\n",
       "      <th></th>\n",
       "    </tr>\n",
       "  </thead>\n",
       "  <tbody>\n",
       "    <tr>\n",
       "      <th>2015</th>\n",
       "      <td>7188.060000</td>\n",
       "      <td>11060.940</td>\n",
       "      <td>8459.220000</td>\n",
       "      <td>7464.160000</td>\n",
       "      <td>7916.700000</td>\n",
       "      <td>9018.900000</td>\n",
       "      <td>8190.600000</td>\n",
       "      <td>10377.400</td>\n",
       "      <td>20315.680</td>\n",
       "      <td>8765.020000</td>\n",
       "      <td>9367.600000</td>\n",
       "      <td>10976.020000</td>\n",
       "      <td>6798.880000</td>\n",
       "      <td>7110.400000</td>\n",
       "      <td>7951.075000</td>\n",
       "      <td>7689.880000</td>\n",
       "      <td>6828.800</td>\n",
       "    </tr>\n",
       "    <tr>\n",
       "      <th>2016</th>\n",
       "      <td>7162.903846</td>\n",
       "      <td>11684.970</td>\n",
       "      <td>8496.730000</td>\n",
       "      <td>7753.405000</td>\n",
       "      <td>9190.683333</td>\n",
       "      <td>10282.030000</td>\n",
       "      <td>8910.733333</td>\n",
       "      <td>10743.535</td>\n",
       "      <td>21753.435</td>\n",
       "      <td>8857.805000</td>\n",
       "      <td>9582.574138</td>\n",
       "      <td>11099.055000</td>\n",
       "      <td>6936.600000</td>\n",
       "      <td>6906.625000</td>\n",
       "      <td>9567.480000</td>\n",
       "      <td>7958.225000</td>\n",
       "      <td>7133.335</td>\n",
       "    </tr>\n",
       "    <tr>\n",
       "      <th>2017</th>\n",
       "      <td>7318.850000</td>\n",
       "      <td>12296.185</td>\n",
       "      <td>8806.600000</td>\n",
       "      <td>8288.063793</td>\n",
       "      <td>9599.700000</td>\n",
       "      <td>12191.972222</td>\n",
       "      <td>9912.910526</td>\n",
       "      <td>11637.615</td>\n",
       "      <td>21864.095</td>\n",
       "      <td>9132.945763</td>\n",
       "      <td>10630.160870</td>\n",
       "      <td>11672.430000</td>\n",
       "      <td>7413.230000</td>\n",
       "      <td>7406.126316</td>\n",
       "      <td>12628.539623</td>\n",
       "      <td>8157.315517</td>\n",
       "      <td>7462.565</td>\n",
       "    </tr>\n",
       "    <tr>\n",
       "      <th>2018</th>\n",
       "      <td>8219.255000</td>\n",
       "      <td>14258.420</td>\n",
       "      <td>9327.670000</td>\n",
       "      <td>8680.776923</td>\n",
       "      <td>9526.953333</td>\n",
       "      <td>12139.252632</td>\n",
       "      <td>10234.106667</td>\n",
       "      <td>12889.965</td>\n",
       "      <td>23202.245</td>\n",
       "      <td>10340.463158</td>\n",
       "      <td>10241.400000</td>\n",
       "      <td>11881.532143</td>\n",
       "      <td>7929.845000</td>\n",
       "      <td>8174.595000</td>\n",
       "      <td>11935.968000</td>\n",
       "      <td>8201.820000</td>\n",
       "      <td>8149.295</td>\n",
       "    </tr>\n",
       "    <tr>\n",
       "      <th>2019</th>\n",
       "      <td>8934.475000</td>\n",
       "      <td>15665.540</td>\n",
       "      <td>10697.615789</td>\n",
       "      <td>9050.250000</td>\n",
       "      <td>12111.675000</td>\n",
       "      <td>14081.650000</td>\n",
       "      <td>12619.200000</td>\n",
       "      <td>13537.865</td>\n",
       "      <td>28286.830</td>\n",
       "      <td>11299.394118</td>\n",
       "      <td>10216.250000</td>\n",
       "      <td>13249.775000</td>\n",
       "      <td>8219.275862</td>\n",
       "      <td>8532.260000</td>\n",
       "      <td>11828.469231</td>\n",
       "      <td>8748.840000</td>\n",
       "      <td>7970.875</td>\n",
       "    </tr>\n",
       "  </tbody>\n",
       "</table>\n",
       "</div>"
      ],
      "text/plain": [
       "지역명            강원         경기            경남           경북            광주  \\\n",
       "연도                                                                      \n",
       "2015  7188.060000  11060.940   8459.220000  7464.160000   7916.700000   \n",
       "2016  7162.903846  11684.970   8496.730000  7753.405000   9190.683333   \n",
       "2017  7318.850000  12296.185   8806.600000  8288.063793   9599.700000   \n",
       "2018  8219.255000  14258.420   9327.670000  8680.776923   9526.953333   \n",
       "2019  8934.475000  15665.540  10697.615789  9050.250000  12111.675000   \n",
       "\n",
       "지역명             대구            대전         부산         서울            세종  \\\n",
       "연도                                                                     \n",
       "2015   9018.900000   8190.600000  10377.400  20315.680   8765.020000   \n",
       "2016  10282.030000   8910.733333  10743.535  21753.435   8857.805000   \n",
       "2017  12191.972222   9912.910526  11637.615  21864.095   9132.945763   \n",
       "2018  12139.252632  10234.106667  12889.965  23202.245  10340.463158   \n",
       "2019  14081.650000  12619.200000  13537.865  28286.830  11299.394118   \n",
       "\n",
       "지역명             울산            인천           전남           전북            제주  \\\n",
       "연도                                                                         \n",
       "2015   9367.600000  10976.020000  6798.880000  7110.400000   7951.075000   \n",
       "2016   9582.574138  11099.055000  6936.600000  6906.625000   9567.480000   \n",
       "2017  10630.160870  11672.430000  7413.230000  7406.126316  12628.539623   \n",
       "2018  10241.400000  11881.532143  7929.845000  8174.595000  11935.968000   \n",
       "2019  10216.250000  13249.775000  8219.275862  8532.260000  11828.469231   \n",
       "\n",
       "지역명            충남        충북  \n",
       "연도                           \n",
       "2015  7689.880000  6828.800  \n",
       "2016  7958.225000  7133.335  \n",
       "2017  8157.315517  7462.565  \n",
       "2018  8201.820000  8149.295  \n",
       "2019  8748.840000  7970.875  "
      ]
     },
     "execution_count": 52,
     "metadata": {},
     "output_type": "execute_result"
    },
    {
     "data": {
      "image/png": "[encoded data removed]",
      "text/plain": [
       "<Figure size 1300x300 with 1 Axes>"
      ]
     },
     "metadata": {},
     "output_type": "display_data"
    }
   ],
   "source": [
    "fig=plt.figure(figsize=(13,3))\n",
    "ax1 = fig.subplots()\n",
    "\n",
    "## 코드작성\n",
    "# ax1\n",
    "\n",
    "df1=df_prep.pivot_table(index='연도', columns='지역명', values='분양가격', aggfunc='mean')\n",
    "df1.head()\n",
    "_=df1.plot.bar(ax=ax1)\n",
    "_=ax1.legend(bbox_to_anchor=(1,1), loc='upper left')"
   ]
  }
 ],
 "metadata": {
  "colab": {
   "collapsed_sections": [
    "9PNqs0q4JZU_",
    "kdeItDwvJZVE",
    "O0PFKeVrJZVG",
    "AReZC_8JJZVO",
    "y6kOVY3CJZVQ",
    "qhS9AqdkJZVT",
    "R5QxvdFJJZVc",
    "D6DhLjbeJZVq",
    "3FVFKFZyJZWF",
    "L-lOJGCAJZWK",
    "B1Y4qFSKJZWa",
    "Fnc_Oj1zJZWo",
    "1D9an7yBJZW-",
    "pbwSpueSJZXF",
    "vVBBZGaZJZXO",
    "HfEF2oEBJZXe"
   ],
   "name": "01-apt-price.ipynb",
   "provenance": []
  },
  "kernelspec": {
   "display_name": "Python 3 (ipykernel)",
   "language": "python",
   "name": "python3"
  },
  "language_info": {
   "codemirror_mode": {
    "name": "ipython",
    "version": 3
   },
   "file_extension": ".py",
   "mimetype": "text/x-python",
   "name": "python",
   "nbconvert_exporter": "python",
   "pygments_lexer": "ipython3",
   "version": "3.11.9"
  },
  "toc": {
   "base_numbering": 1,
   "nav_menu": {},
   "number_sections": true,
   "sideBar": true,
   "skip_h1_title": false,
   "title_cell": "Table of Contents",
   "title_sidebar": "Contents",
   "toc_cell": false,
   "toc_position": {
    "height": "calc(100% - 180px)",
    "left": "10px",
    "top": "150px",
    "width": "373.542px"
   },
   "toc_section_display": true,
   "toc_window_display": false
  },
  "varInspector": {
   "cols": {
    "lenName": 16,
    "lenType": 16,
    "lenVar": 40
   },
   "kernels_config": {
    "python": {
     "delete_cmd_postfix": "",
     "delete_cmd_prefix": "del ",
     "library": "var_list.py",
     "varRefreshCmd": "print(var_dic_list())"
    },
    "r": {
     "delete_cmd_postfix": ") ",
     "delete_cmd_prefix": "rm(",
     "library": "var_list.r",
     "varRefreshCmd": "cat(var_dic_list()) "
    }
   },
   "position": {
    "height": "144.716px",
    "left": "1138.08px",
    "right": "20px",
    "top": "117.997px",
    "width": "350px"
   },
   "types_to_exclude": [
    "module",
    "function",
    "builtin_function_or_method",
    "instance",
    "_Feature"
   ],
   "window_display": false
  }
 },
 "nbformat": 4,
 "nbformat_minor": 4
}
